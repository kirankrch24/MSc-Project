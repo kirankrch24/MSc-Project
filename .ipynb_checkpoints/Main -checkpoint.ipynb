{
 "cells": [
  {
   "cell_type": "markdown",
   "id": "150a9f47",
   "metadata": {},
   "source": [
    "# MSc Project"
   ]
  },
  {
   "cell_type": "markdown",
   "id": "1b592688",
   "metadata": {},
   "source": [
    "## Importing data "
   ]
  },
  {
   "cell_type": "code",
   "execution_count": 1,
   "id": "88a4bb36",
   "metadata": {},
   "outputs": [],
   "source": [
    "import pandas as pd\n",
    "from sklearn.linear_model import LinearRegression\n",
    "from sklearn.model_selection import train_test_split"
   ]
  },
  {
   "cell_type": "code",
   "execution_count": 2,
   "id": "78f0c293",
   "metadata": {},
   "outputs": [],
   "source": [
    "import pandas as pd\n",
    "from sklearn.model_selection import train_test_split\n",
    "from sklearn.svm import SVR\n",
    "from sklearn.preprocessing import StandardScaler"
   ]
  },
  {
   "cell_type": "code",
   "execution_count": 3,
   "id": "43e7e4cf",
   "metadata": {},
   "outputs": [],
   "source": [
    "import pandas as pd\n",
    "from sklearn.model_selection import train_test_split\n",
    "from sklearn.svm import SVR\n",
    "from sklearn.metrics import mean_squared_error"
   ]
  },
  {
   "cell_type": "code",
   "execution_count": 4,
   "id": "1a34b22f",
   "metadata": {},
   "outputs": [
    {
     "data": {
      "text/html": [
       "<div>\n",
       "<style scoped>\n",
       "    .dataframe tbody tr th:only-of-type {\n",
       "        vertical-align: middle;\n",
       "    }\n",
       "\n",
       "    .dataframe tbody tr th {\n",
       "        vertical-align: top;\n",
       "    }\n",
       "\n",
       "    .dataframe thead th {\n",
       "        text-align: right;\n",
       "    }\n",
       "</style>\n",
       "<table border=\"1\" class=\"dataframe\">\n",
       "  <thead>\n",
       "    <tr style=\"text-align: right;\">\n",
       "      <th></th>\n",
       "      <th>Year</th>\n",
       "      <th>Code</th>\n",
       "      <th>Region</th>\n",
       "      <th>LA</th>\n",
       "      <th>All_fuels_Domestic</th>\n",
       "      <th>All_fuels_Transport</th>\n",
       "      <th>All_fuels_Industrial_Commercial_and_other</th>\n",
       "      <th>All_fuels_Total</th>\n",
       "      <th>Coal_Industrial</th>\n",
       "      <th>Coal_Commercial</th>\n",
       "      <th>...</th>\n",
       "      <th>Gas_Domestic</th>\n",
       "      <th>Gas_Industrial_Commercial_and_other</th>\n",
       "      <th>Gas_Total</th>\n",
       "      <th>Electricity_Domestic</th>\n",
       "      <th>Electricity_Industrial_Commercial_and_other</th>\n",
       "      <th>Electricty_Total</th>\n",
       "      <th>Bioenergy_and_wastes_Domestic</th>\n",
       "      <th>Bioenergy_and_wastes_Road_transport</th>\n",
       "      <th>Bioenergy_and_wastes_Industrial_and_Commercial</th>\n",
       "      <th>Bioenergy_and_wastes_Total</th>\n",
       "    </tr>\n",
       "  </thead>\n",
       "  <tbody>\n",
       "    <tr>\n",
       "      <th>0</th>\n",
       "      <td>2005</td>\n",
       "      <td>K02000001</td>\n",
       "      <td>United Kingdom (inc unallocated)</td>\n",
       "      <td>All local authorities</td>\n",
       "      <td>49993.705130</td>\n",
       "      <td>39293.752810</td>\n",
       "      <td>62396.904040</td>\n",
       "      <td>151684.362000</td>\n",
       "      <td>1495.484497</td>\n",
       "      <td>5.367898</td>\n",
       "      <td>...</td>\n",
       "      <td>35317.22100</td>\n",
       "      <td>22085.27900</td>\n",
       "      <td>57402.50000</td>\n",
       "      <td>10268.750000</td>\n",
       "      <td>17273.48100</td>\n",
       "      <td>27542.23100</td>\n",
       "      <td>431.761322</td>\n",
       "      <td>68.095314</td>\n",
       "      <td>967.260681</td>\n",
       "      <td>1467.117317</td>\n",
       "    </tr>\n",
       "    <tr>\n",
       "      <th>1</th>\n",
       "      <td>2005</td>\n",
       "      <td>DUKES</td>\n",
       "      <td>UK total from Digest of UK Energy Statistics</td>\n",
       "      <td>All local authorities</td>\n",
       "      <td>47753.480470</td>\n",
       "      <td>43217.519530</td>\n",
       "      <td>59343.468750</td>\n",
       "      <td>150314.468800</td>\n",
       "      <td>1471.599976</td>\n",
       "      <td>4.160000</td>\n",
       "      <td>...</td>\n",
       "      <td>32835.67969</td>\n",
       "      <td>22547.91016</td>\n",
       "      <td>55383.58984</td>\n",
       "      <td>10809.209960</td>\n",
       "      <td>18822.36914</td>\n",
       "      <td>29631.58008</td>\n",
       "      <td>317.799988</td>\n",
       "      <td>74.050003</td>\n",
       "      <td>220.449997</td>\n",
       "      <td>612.299988</td>\n",
       "    </tr>\n",
       "    <tr>\n",
       "      <th>2</th>\n",
       "      <td>2005</td>\n",
       "      <td>K03000001</td>\n",
       "      <td>Great Britain (inc unallocated)</td>\n",
       "      <td>All local authorities</td>\n",
       "      <td>49080.103020</td>\n",
       "      <td>38028.629840</td>\n",
       "      <td>60565.234280</td>\n",
       "      <td>147673.967100</td>\n",
       "      <td>1370.500977</td>\n",
       "      <td>4.850919</td>\n",
       "      <td>...</td>\n",
       "      <td>35317.22100</td>\n",
       "      <td>22085.27900</td>\n",
       "      <td>57402.50000</td>\n",
       "      <td>10268.750000</td>\n",
       "      <td>17273.48100</td>\n",
       "      <td>27542.23100</td>\n",
       "      <td>406.983887</td>\n",
       "      <td>65.912811</td>\n",
       "      <td>922.496948</td>\n",
       "      <td>1395.393646</td>\n",
       "    </tr>\n",
       "    <tr>\n",
       "      <th>3</th>\n",
       "      <td>2005</td>\n",
       "      <td>K04000001</td>\n",
       "      <td>England and Wales</td>\n",
       "      <td>All local authorities</td>\n",
       "      <td>44535.384550</td>\n",
       "      <td>34764.361210</td>\n",
       "      <td>53147.873730</td>\n",
       "      <td>132447.619500</td>\n",
       "      <td>1253.713600</td>\n",
       "      <td>4.212600</td>\n",
       "      <td>...</td>\n",
       "      <td>32267.35800</td>\n",
       "      <td>19856.37500</td>\n",
       "      <td>52123.73300</td>\n",
       "      <td>9193.769997</td>\n",
       "      <td>15356.32700</td>\n",
       "      <td>24550.09700</td>\n",
       "      <td>378.057529</td>\n",
       "      <td>60.305458</td>\n",
       "      <td>820.273834</td>\n",
       "      <td>1258.636822</td>\n",
       "    </tr>\n",
       "    <tr>\n",
       "      <th>4</th>\n",
       "      <td>2005</td>\n",
       "      <td>E92000001</td>\n",
       "      <td>England</td>\n",
       "      <td>All local authorities</td>\n",
       "      <td>41920.920920</td>\n",
       "      <td>32833.845680</td>\n",
       "      <td>48352.994070</td>\n",
       "      <td>123107.760700</td>\n",
       "      <td>1147.934326</td>\n",
       "      <td>3.820124</td>\n",
       "      <td>...</td>\n",
       "      <td>30557.23100</td>\n",
       "      <td>18616.29600</td>\n",
       "      <td>49173.52700</td>\n",
       "      <td>8707.480997</td>\n",
       "      <td>14332.10500</td>\n",
       "      <td>23039.58600</td>\n",
       "      <td>341.608032</td>\n",
       "      <td>56.965355</td>\n",
       "      <td>734.831482</td>\n",
       "      <td>1133.404869</td>\n",
       "    </tr>\n",
       "    <tr>\n",
       "      <th>5</th>\n",
       "      <td>2005</td>\n",
       "      <td>E12000001</td>\n",
       "      <td>North East</td>\n",
       "      <td>All local authorities</td>\n",
       "      <td>2340.493164</td>\n",
       "      <td>1445.333144</td>\n",
       "      <td>4004.008947</td>\n",
       "      <td>7789.835254</td>\n",
       "      <td>195.079697</td>\n",
       "      <td>0.105163</td>\n",
       "      <td>...</td>\n",
       "      <td>1780.80600</td>\n",
       "      <td>1199.67600</td>\n",
       "      <td>2980.48200</td>\n",
       "      <td>391.082000</td>\n",
       "      <td>803.85300</td>\n",
       "      <td>1194.93500</td>\n",
       "      <td>25.496124</td>\n",
       "      <td>2.550239</td>\n",
       "      <td>91.335693</td>\n",
       "      <td>119.382057</td>\n",
       "    </tr>\n",
       "    <tr>\n",
       "      <th>6</th>\n",
       "      <td>2005</td>\n",
       "      <td>E12000002</td>\n",
       "      <td>North West</td>\n",
       "      <td>All local authorities</td>\n",
       "      <td>6021.258043</td>\n",
       "      <td>4354.244320</td>\n",
       "      <td>7232.052088</td>\n",
       "      <td>17607.554450</td>\n",
       "      <td>100.517860</td>\n",
       "      <td>0.316802</td>\n",
       "      <td>...</td>\n",
       "      <td>4590.81400</td>\n",
       "      <td>3089.12200</td>\n",
       "      <td>7679.93600</td>\n",
       "      <td>1133.050000</td>\n",
       "      <td>1987.52000</td>\n",
       "      <td>3120.57000</td>\n",
       "      <td>58.793983</td>\n",
       "      <td>7.569469</td>\n",
       "      <td>96.720833</td>\n",
       "      <td>163.084286</td>\n",
       "    </tr>\n",
       "    <tr>\n",
       "      <th>7</th>\n",
       "      <td>2005</td>\n",
       "      <td>E12000003</td>\n",
       "      <td>Yorkshire and The Humber</td>\n",
       "      <td>All local authorities</td>\n",
       "      <td>4451.170607</td>\n",
       "      <td>3343.925394</td>\n",
       "      <td>7304.586561</td>\n",
       "      <td>15099.682560</td>\n",
       "      <td>51.963524</td>\n",
       "      <td>0.367115</td>\n",
       "      <td>...</td>\n",
       "      <td>3355.49100</td>\n",
       "      <td>2635.35100</td>\n",
       "      <td>5990.84200</td>\n",
       "      <td>842.958000</td>\n",
       "      <td>1464.50300</td>\n",
       "      <td>2307.46100</td>\n",
       "      <td>25.950985</td>\n",
       "      <td>5.679790</td>\n",
       "      <td>31.210754</td>\n",
       "      <td>62.841529</td>\n",
       "    </tr>\n",
       "    <tr>\n",
       "      <th>8</th>\n",
       "      <td>2005</td>\n",
       "      <td>E12000004</td>\n",
       "      <td>East Midlands</td>\n",
       "      <td>All local authorities</td>\n",
       "      <td>3708.871141</td>\n",
       "      <td>3238.508118</td>\n",
       "      <td>4144.997185</td>\n",
       "      <td>11092.376440</td>\n",
       "      <td>224.699158</td>\n",
       "      <td>0.327310</td>\n",
       "      <td>...</td>\n",
       "      <td>2705.86400</td>\n",
       "      <td>1628.24600</td>\n",
       "      <td>4334.11000</td>\n",
       "      <td>743.249000</td>\n",
       "      <td>1315.07900</td>\n",
       "      <td>2058.32800</td>\n",
       "      <td>43.435696</td>\n",
       "      <td>5.466304</td>\n",
       "      <td>105.699478</td>\n",
       "      <td>154.601478</td>\n",
       "    </tr>\n",
       "    <tr>\n",
       "      <th>9</th>\n",
       "      <td>2005</td>\n",
       "      <td>E12000005</td>\n",
       "      <td>West Midlands</td>\n",
       "      <td>All local authorities</td>\n",
       "      <td>4360.298883</td>\n",
       "      <td>3837.297118</td>\n",
       "      <td>4476.744888</td>\n",
       "      <td>12674.340890</td>\n",
       "      <td>185.203308</td>\n",
       "      <td>0.296345</td>\n",
       "      <td>...</td>\n",
       "      <td>3243.88600</td>\n",
       "      <td>1974.45600</td>\n",
       "      <td>5218.34200</td>\n",
       "      <td>886.949000</td>\n",
       "      <td>1456.47500</td>\n",
       "      <td>2343.42400</td>\n",
       "      <td>22.251884</td>\n",
       "      <td>6.582330</td>\n",
       "      <td>61.561562</td>\n",
       "      <td>90.395776</td>\n",
       "    </tr>\n",
       "  </tbody>\n",
       "</table>\n",
       "<p>10 rows × 36 columns</p>\n",
       "</div>"
      ],
      "text/plain": [
       "   Year       Code                                        Region  \\\n",
       "0  2005  K02000001              United Kingdom (inc unallocated)   \n",
       "1  2005      DUKES  UK total from Digest of UK Energy Statistics   \n",
       "2  2005  K03000001               Great Britain (inc unallocated)   \n",
       "3  2005  K04000001                             England and Wales   \n",
       "4  2005  E92000001                                       England   \n",
       "5  2005  E12000001                                    North East   \n",
       "6  2005  E12000002                                    North West   \n",
       "7  2005  E12000003                      Yorkshire and The Humber   \n",
       "8  2005  E12000004                                 East Midlands   \n",
       "9  2005  E12000005                                 West Midlands   \n",
       "\n",
       "                      LA  All_fuels_Domestic  All_fuels_Transport  \\\n",
       "0  All local authorities        49993.705130         39293.752810   \n",
       "1  All local authorities        47753.480470         43217.519530   \n",
       "2  All local authorities        49080.103020         38028.629840   \n",
       "3  All local authorities        44535.384550         34764.361210   \n",
       "4  All local authorities        41920.920920         32833.845680   \n",
       "5  All local authorities         2340.493164          1445.333144   \n",
       "6  All local authorities         6021.258043          4354.244320   \n",
       "7  All local authorities         4451.170607          3343.925394   \n",
       "8  All local authorities         3708.871141          3238.508118   \n",
       "9  All local authorities         4360.298883          3837.297118   \n",
       "\n",
       "   All_fuels_Industrial_Commercial_and_other  All_fuels_Total  \\\n",
       "0                               62396.904040    151684.362000   \n",
       "1                               59343.468750    150314.468800   \n",
       "2                               60565.234280    147673.967100   \n",
       "3                               53147.873730    132447.619500   \n",
       "4                               48352.994070    123107.760700   \n",
       "5                                4004.008947      7789.835254   \n",
       "6                                7232.052088     17607.554450   \n",
       "7                                7304.586561     15099.682560   \n",
       "8                                4144.997185     11092.376440   \n",
       "9                                4476.744888     12674.340890   \n",
       "\n",
       "   Coal_Industrial  Coal_Commercial  ...  Gas_Domestic  \\\n",
       "0      1495.484497         5.367898  ...   35317.22100   \n",
       "1      1471.599976         4.160000  ...   32835.67969   \n",
       "2      1370.500977         4.850919  ...   35317.22100   \n",
       "3      1253.713600         4.212600  ...   32267.35800   \n",
       "4      1147.934326         3.820124  ...   30557.23100   \n",
       "5       195.079697         0.105163  ...    1780.80600   \n",
       "6       100.517860         0.316802  ...    4590.81400   \n",
       "7        51.963524         0.367115  ...    3355.49100   \n",
       "8       224.699158         0.327310  ...    2705.86400   \n",
       "9       185.203308         0.296345  ...    3243.88600   \n",
       "\n",
       "   Gas_Industrial_Commercial_and_other    Gas_Total  Electricity_Domestic  \\\n",
       "0                          22085.27900  57402.50000          10268.750000   \n",
       "1                          22547.91016  55383.58984          10809.209960   \n",
       "2                          22085.27900  57402.50000          10268.750000   \n",
       "3                          19856.37500  52123.73300           9193.769997   \n",
       "4                          18616.29600  49173.52700           8707.480997   \n",
       "5                           1199.67600   2980.48200            391.082000   \n",
       "6                           3089.12200   7679.93600           1133.050000   \n",
       "7                           2635.35100   5990.84200            842.958000   \n",
       "8                           1628.24600   4334.11000            743.249000   \n",
       "9                           1974.45600   5218.34200            886.949000   \n",
       "\n",
       "   Electricity_Industrial_Commercial_and_other  Electricty_Total  \\\n",
       "0                                  17273.48100       27542.23100   \n",
       "1                                  18822.36914       29631.58008   \n",
       "2                                  17273.48100       27542.23100   \n",
       "3                                  15356.32700       24550.09700   \n",
       "4                                  14332.10500       23039.58600   \n",
       "5                                    803.85300        1194.93500   \n",
       "6                                   1987.52000        3120.57000   \n",
       "7                                   1464.50300        2307.46100   \n",
       "8                                   1315.07900        2058.32800   \n",
       "9                                   1456.47500        2343.42400   \n",
       "\n",
       "   Bioenergy_and_wastes_Domestic  Bioenergy_and_wastes_Road_transport  \\\n",
       "0                     431.761322                            68.095314   \n",
       "1                     317.799988                            74.050003   \n",
       "2                     406.983887                            65.912811   \n",
       "3                     378.057529                            60.305458   \n",
       "4                     341.608032                            56.965355   \n",
       "5                      25.496124                             2.550239   \n",
       "6                      58.793983                             7.569469   \n",
       "7                      25.950985                             5.679790   \n",
       "8                      43.435696                             5.466304   \n",
       "9                      22.251884                             6.582330   \n",
       "\n",
       "   Bioenergy_and_wastes_Industrial_and_Commercial  Bioenergy_and_wastes_Total  \n",
       "0                                      967.260681                 1467.117317  \n",
       "1                                      220.449997                  612.299988  \n",
       "2                                      922.496948                 1395.393646  \n",
       "3                                      820.273834                 1258.636822  \n",
       "4                                      734.831482                 1133.404869  \n",
       "5                                       91.335693                  119.382057  \n",
       "6                                       96.720833                  163.084286  \n",
       "7                                       31.210754                   62.841529  \n",
       "8                                      105.699478                  154.601478  \n",
       "9                                       61.561562                   90.395776  \n",
       "\n",
       "[10 rows x 36 columns]"
      ]
     },
     "execution_count": 4,
     "metadata": {},
     "output_type": "execute_result"
    }
   ],
   "source": [
    "uk_csv_file_path = \"Data/UK Total energy consumption.csv\"\n",
    "uk_data = pd.read_csv(uk_csv_file_path)\n",
    "uk_data.head(10)"
   ]
  },
  {
   "cell_type": "code",
   "execution_count": 5,
   "id": "4dc0a303",
   "metadata": {},
   "outputs": [
    {
     "name": "stdout",
     "output_type": "stream",
     "text": [
      "length of Scotland Data 19008\n"
     ]
    },
    {
     "data": {
      "text/html": [
       "<div>\n",
       "<style scoped>\n",
       "    .dataframe tbody tr th:only-of-type {\n",
       "        vertical-align: middle;\n",
       "    }\n",
       "\n",
       "    .dataframe tbody tr th {\n",
       "        vertical-align: top;\n",
       "    }\n",
       "\n",
       "    .dataframe thead th {\n",
       "        text-align: right;\n",
       "    }\n",
       "</style>\n",
       "<table border=\"1\" class=\"dataframe\">\n",
       "  <thead>\n",
       "    <tr style=\"text-align: right;\">\n",
       "      <th></th>\n",
       "      <th>FeatureCode</th>\n",
       "      <th>FeatureName</th>\n",
       "      <th>FeatureType</th>\n",
       "      <th>DateCode</th>\n",
       "      <th>Measurement</th>\n",
       "      <th>Units</th>\n",
       "      <th>Value</th>\n",
       "      <th>Energy Type</th>\n",
       "      <th>Energy Consuming Sector</th>\n",
       "    </tr>\n",
       "  </thead>\n",
       "  <tbody>\n",
       "    <tr>\n",
       "      <th>0</th>\n",
       "      <td>S12000039</td>\n",
       "      <td>West Dunbartonshire</td>\n",
       "      <td>Council Area</td>\n",
       "      <td>2005</td>\n",
       "      <td>Count</td>\n",
       "      <td>GWh</td>\n",
       "      <td>0.000</td>\n",
       "      <td>Coal</td>\n",
       "      <td>Rail</td>\n",
       "    </tr>\n",
       "    <tr>\n",
       "      <th>1</th>\n",
       "      <td>S12000039</td>\n",
       "      <td>West Dunbartonshire</td>\n",
       "      <td>Council Area</td>\n",
       "      <td>2005</td>\n",
       "      <td>Count</td>\n",
       "      <td>GWh</td>\n",
       "      <td>192.383</td>\n",
       "      <td>Electricity</td>\n",
       "      <td>Domestic</td>\n",
       "    </tr>\n",
       "    <tr>\n",
       "      <th>2</th>\n",
       "      <td>S12000039</td>\n",
       "      <td>West Dunbartonshire</td>\n",
       "      <td>Council Area</td>\n",
       "      <td>2005</td>\n",
       "      <td>Count</td>\n",
       "      <td>GWh</td>\n",
       "      <td>0.176</td>\n",
       "      <td>Coal</td>\n",
       "      <td>Public Sector</td>\n",
       "    </tr>\n",
       "    <tr>\n",
       "      <th>3</th>\n",
       "      <td>S12000039</td>\n",
       "      <td>West Dunbartonshire</td>\n",
       "      <td>Council Area</td>\n",
       "      <td>2005</td>\n",
       "      <td>Count</td>\n",
       "      <td>GWh</td>\n",
       "      <td>664.980</td>\n",
       "      <td>Gas</td>\n",
       "      <td>Domestic</td>\n",
       "    </tr>\n",
       "    <tr>\n",
       "      <th>4</th>\n",
       "      <td>S12000039</td>\n",
       "      <td>West Dunbartonshire</td>\n",
       "      <td>Council Area</td>\n",
       "      <td>2005</td>\n",
       "      <td>Count</td>\n",
       "      <td>GWh</td>\n",
       "      <td>250.801</td>\n",
       "      <td>Electricity</td>\n",
       "      <td>Industrial &amp; Commercial</td>\n",
       "    </tr>\n",
       "    <tr>\n",
       "      <th>5</th>\n",
       "      <td>S12000039</td>\n",
       "      <td>West Dunbartonshire</td>\n",
       "      <td>Council Area</td>\n",
       "      <td>2005</td>\n",
       "      <td>Count</td>\n",
       "      <td>GWh</td>\n",
       "      <td>868.701</td>\n",
       "      <td>All</td>\n",
       "      <td>Domestic</td>\n",
       "    </tr>\n",
       "    <tr>\n",
       "      <th>6</th>\n",
       "      <td>S12000039</td>\n",
       "      <td>West Dunbartonshire</td>\n",
       "      <td>Council Area</td>\n",
       "      <td>2005</td>\n",
       "      <td>Count</td>\n",
       "      <td>GWh</td>\n",
       "      <td>1.127</td>\n",
       "      <td>Bioenergy &amp; Wastes</td>\n",
       "      <td>Domestic</td>\n",
       "    </tr>\n",
       "    <tr>\n",
       "      <th>7</th>\n",
       "      <td>S12000039</td>\n",
       "      <td>West Dunbartonshire</td>\n",
       "      <td>Council Area</td>\n",
       "      <td>2005</td>\n",
       "      <td>Count</td>\n",
       "      <td>GWh</td>\n",
       "      <td>639.841</td>\n",
       "      <td>All</td>\n",
       "      <td>Industrial &amp; Commercial</td>\n",
       "    </tr>\n",
       "    <tr>\n",
       "      <th>8</th>\n",
       "      <td>S12000039</td>\n",
       "      <td>West Dunbartonshire</td>\n",
       "      <td>Council Area</td>\n",
       "      <td>2005</td>\n",
       "      <td>Count</td>\n",
       "      <td>GWh</td>\n",
       "      <td>0.182</td>\n",
       "      <td>Coal</td>\n",
       "      <td>Domestic</td>\n",
       "    </tr>\n",
       "    <tr>\n",
       "      <th>9</th>\n",
       "      <td>S12000039</td>\n",
       "      <td>West Dunbartonshire</td>\n",
       "      <td>Council Area</td>\n",
       "      <td>2005</td>\n",
       "      <td>Count</td>\n",
       "      <td>GWh</td>\n",
       "      <td>0.005</td>\n",
       "      <td>Coal</td>\n",
       "      <td>Agriculture</td>\n",
       "    </tr>\n",
       "  </tbody>\n",
       "</table>\n",
       "</div>"
      ],
      "text/plain": [
       "  FeatureCode          FeatureName   FeatureType  DateCode Measurement Units  \\\n",
       "0   S12000039  West Dunbartonshire  Council Area      2005       Count   GWh   \n",
       "1   S12000039  West Dunbartonshire  Council Area      2005       Count   GWh   \n",
       "2   S12000039  West Dunbartonshire  Council Area      2005       Count   GWh   \n",
       "3   S12000039  West Dunbartonshire  Council Area      2005       Count   GWh   \n",
       "4   S12000039  West Dunbartonshire  Council Area      2005       Count   GWh   \n",
       "5   S12000039  West Dunbartonshire  Council Area      2005       Count   GWh   \n",
       "6   S12000039  West Dunbartonshire  Council Area      2005       Count   GWh   \n",
       "7   S12000039  West Dunbartonshire  Council Area      2005       Count   GWh   \n",
       "8   S12000039  West Dunbartonshire  Council Area      2005       Count   GWh   \n",
       "9   S12000039  West Dunbartonshire  Council Area      2005       Count   GWh   \n",
       "\n",
       "     Value         Energy Type  Energy Consuming Sector  \n",
       "0    0.000                Coal                     Rail  \n",
       "1  192.383         Electricity                 Domestic  \n",
       "2    0.176                Coal            Public Sector  \n",
       "3  664.980                 Gas                 Domestic  \n",
       "4  250.801         Electricity  Industrial & Commercial  \n",
       "5  868.701                 All                 Domestic  \n",
       "6    1.127  Bioenergy & Wastes                 Domestic  \n",
       "7  639.841                 All  Industrial & Commercial  \n",
       "8    0.182                Coal                 Domestic  \n",
       "9    0.005                Coal              Agriculture  "
      ]
     },
     "execution_count": 5,
     "metadata": {},
     "output_type": "execute_result"
    }
   ],
   "source": [
    "scot_csv_file_path = \"Data/Scotland Final Data .csv\"\n",
    "scot_data = pd.read_csv(scot_csv_file_path)\n",
    "\n",
    "print(\"length of Scotland Data \" + str(len(scot_data)))\n",
    "\n",
    "scot_data.head(10)\n"
   ]
  },
  {
   "cell_type": "markdown",
   "id": "e4b94df3",
   "metadata": {},
   "source": [
    "## EDA"
   ]
  },
  {
   "cell_type": "code",
   "execution_count": 6,
   "id": "d20991e6",
   "metadata": {},
   "outputs": [
    {
     "name": "stdout",
     "output_type": "stream",
     "text": [
      "West Dunbartonshire      576\n",
      "Shetland Islands         576\n",
      "Glasgow City             576\n",
      "Perth and Kinross        576\n",
      "Fife                     576\n",
      "East Dunbartonshire      576\n",
      "Dundee City              576\n",
      "Angus                    576\n",
      "Renfrewshire             576\n",
      "City of Edinburgh        576\n",
      "Argyll and Bute          576\n",
      "Aberdeenshire            576\n",
      "Aberdeen City            576\n",
      "Stirling                 576\n",
      "South Lanarkshire        576\n",
      "South Ayrshire           576\n",
      "Scottish Borders         576\n",
      "West Lothian             576\n",
      "Orkney Islands           576\n",
      "North Ayrshire           576\n",
      "Moray                    576\n",
      "Midlothian               576\n",
      "Inverclyde               576\n",
      "Highland                 576\n",
      "Falkirk                  576\n",
      "Na h-Eileanan Siar       576\n",
      "East Renfrewshire        576\n",
      "East Lothian             576\n",
      "East Ayrshire            576\n",
      "Dumfries and Galloway    576\n",
      "Clackmannanshire         576\n",
      "Scotland                 576\n",
      "North Lanarkshire        576\n",
      "Name: FeatureName, dtype: int64\n"
     ]
    }
   ],
   "source": [
    "# checking number of different councils in Scotland\n",
    "councils = scot_data['FeatureName'].value_counts()\n",
    "print(councils)"
   ]
  },
  {
   "cell_type": "code",
   "execution_count": 7,
   "id": "50573617",
   "metadata": {},
   "outputs": [],
   "source": [
    "# as it contains the data of scotland (as whole country), we don't need that, so we will remove it.\n",
    "# i'm making a copy and then start filtering "
   ]
  },
  {
   "cell_type": "code",
   "execution_count": 8,
   "id": "5b96a535",
   "metadata": {},
   "outputs": [],
   "source": [
    "scot_data_cl = scot_data[~(scot_data[\"FeatureName\"]==\"Scotland\")]"
   ]
  },
  {
   "cell_type": "code",
   "execution_count": 9,
   "id": "0429354f",
   "metadata": {},
   "outputs": [
    {
     "name": "stdout",
     "output_type": "stream",
     "text": [
      "length of Scotland Data 18432\n"
     ]
    }
   ],
   "source": [
    "print(\"length of Scotland Data \" + str(len(scot_data_cl)))"
   ]
  },
  {
   "cell_type": "code",
   "execution_count": 10,
   "id": "f065b1c9",
   "metadata": {},
   "outputs": [
    {
     "name": "stdout",
     "output_type": "stream",
     "text": [
      "West Dunbartonshire      576\n",
      "West Lothian             576\n",
      "Glasgow City             576\n",
      "Perth and Kinross        576\n",
      "Fife                     576\n",
      "East Dunbartonshire      576\n",
      "Dundee City              576\n",
      "Angus                    576\n",
      "Renfrewshire             576\n",
      "City of Edinburgh        576\n",
      "Argyll and Bute          576\n",
      "Aberdeenshire            576\n",
      "Aberdeen City            576\n",
      "Stirling                 576\n",
      "South Lanarkshire        576\n",
      "South Ayrshire           576\n",
      "Shetland Islands         576\n",
      "Scottish Borders         576\n",
      "Orkney Islands           576\n",
      "North Ayrshire           576\n",
      "Moray                    576\n",
      "Midlothian               576\n",
      "Inverclyde               576\n",
      "Highland                 576\n",
      "Falkirk                  576\n",
      "Na h-Eileanan Siar       576\n",
      "East Renfrewshire        576\n",
      "East Lothian             576\n",
      "East Ayrshire            576\n",
      "Dumfries and Galloway    576\n",
      "Clackmannanshire         576\n",
      "North Lanarkshire        576\n",
      "Name: FeatureName, dtype: int64\n",
      "Total number of councils in Scotland :  32\n"
     ]
    }
   ],
   "source": [
    "# now we removed all scotland country instances from the dataset \n",
    "\n",
    "# now we see how many councils are there in scotland \n",
    "\n",
    "councils = scot_data_cl['FeatureName'].value_counts()\n",
    "print(councils)\n",
    "print(\"Total number of councils in Scotland : \", scot_data_cl['FeatureName'].nunique())"
   ]
  },
  {
   "cell_type": "code",
   "execution_count": 11,
   "id": "79cdf9e2",
   "metadata": {},
   "outputs": [
    {
     "name": "stdout",
     "output_type": "stream",
     "text": [
      "FeatureCode                 object\n",
      "FeatureName                 object\n",
      "FeatureType                 object\n",
      "DateCode                     int64\n",
      "Measurement                 object\n",
      "Units                       object\n",
      "Value                      float64\n",
      "Energy Type                 object\n",
      "Energy Consuming Sector     object\n",
      "dtype: object\n"
     ]
    }
   ],
   "source": [
    "print(scot_data_cl.dtypes)"
   ]
  },
  {
   "cell_type": "code",
   "execution_count": 12,
   "id": "c32d61f6",
   "metadata": {},
   "outputs": [
    {
     "name": "stdout",
     "output_type": "stream",
     "text": [
      "      FeatureCode    FeatureName   FeatureType  DateCode Measurement Units  \\\n",
      "12147   S12000033  Aberdeen City  Council Area      2005       Count   GWh   \n",
      "12153   S12000033  Aberdeen City  Council Area      2005       Count   GWh   \n",
      "12155   S12000033  Aberdeen City  Council Area      2005       Count   GWh   \n",
      "12156   S12000033  Aberdeen City  Council Area      2005       Count   GWh   \n",
      "12158   S12000033  Aberdeen City  Council Area      2005       Count   GWh   \n",
      "12159   S12000033  Aberdeen City  Council Area      2005       Count   GWh   \n",
      "12283   S12000033  Aberdeen City  Council Area      2005       Count   GWh   \n",
      "\n",
      "          Value         Energy Type Energy Consuming Sector  \n",
      "12147     1.644                Coal                Domestic  \n",
      "12153    10.317  Bioenergy & Wastes                Domestic  \n",
      "12155     5.473  Manufactured Fuels                Domestic  \n",
      "12156    26.174  Petroleum Products                Domestic  \n",
      "12158   516.919         Electricity                Domestic  \n",
      "12159  1682.733                 Gas                Domestic  \n",
      "12283  2243.259                 All                Domestic  \n"
     ]
    }
   ],
   "source": [
    "x = scot_data_cl[(scot_data_cl['FeatureCode']=='S12000033')&(scot_data_cl['DateCode']==2005)&(scot_data_cl['Energy Consuming Sector']=='Domestic')]\n",
    "print(x)"
   ]
  },
  {
   "cell_type": "code",
   "execution_count": 13,
   "id": "4b0e1452",
   "metadata": {},
   "outputs": [
    {
     "data": {
      "text/plain": [
       "18432"
      ]
     },
     "execution_count": 13,
     "metadata": {},
     "output_type": "execute_result"
    }
   ],
   "source": [
    "len(scot_data_cl)"
   ]
  },
  {
   "cell_type": "code",
   "execution_count": 14,
   "id": "4c1d0563",
   "metadata": {},
   "outputs": [],
   "source": [
    "\n",
    "scot_data_cl = scot_data_cl[scot_data_cl['Energy Consuming Sector'] != 'All']"
   ]
  },
  {
   "cell_type": "code",
   "execution_count": 15,
   "id": "f2c10ac0",
   "metadata": {},
   "outputs": [],
   "source": [
    "scot_data_cl = scot_data_cl[scot_data_cl['Energy Type'] != 'All']"
   ]
  },
  {
   "cell_type": "code",
   "execution_count": 16,
   "id": "36cb7345",
   "metadata": {},
   "outputs": [
    {
     "data": {
      "text/plain": [
       "13312"
      ]
     },
     "execution_count": 16,
     "metadata": {},
     "output_type": "execute_result"
    }
   ],
   "source": [
    "len(scot_data_cl)"
   ]
  },
  {
   "cell_type": "code",
   "execution_count": 17,
   "id": "9c9e4f31",
   "metadata": {},
   "outputs": [
    {
     "name": "stdout",
     "output_type": "stream",
     "text": [
      "['Coal' 'Electricity' 'Gas' 'Bioenergy & Wastes' 'Petroleum Products'\n",
      " 'Manufactured Fuels']\n",
      "['Rail' 'Domestic' 'Public Sector' 'Industrial & Commercial' 'Agriculture'\n",
      " 'Road Transport' 'Commercial' 'Industrial']\n"
     ]
    }
   ],
   "source": [
    "# unique_values = df['column_name'].unique()\n",
    "\n",
    "uq_engery_type = scot_data_cl['Energy Type'].unique()\n",
    "print(uq_engery_type)\n",
    "uq_engery_consume = scot_data_cl['Energy Consuming Sector'].unique()\n",
    "print(uq_engery_consume)"
   ]
  },
  {
   "cell_type": "code",
   "execution_count": 18,
   "id": "b67586fe",
   "metadata": {},
   "outputs": [],
   "source": [
    "# exporting data file\n",
    "scot_data_cl.to_csv('Data/Scotland Cleaned Data.csv', index=False)"
   ]
  },
  {
   "cell_type": "code",
   "execution_count": 19,
   "id": "19801d4a",
   "metadata": {},
   "outputs": [
    {
     "name": "stdout",
     "output_type": "stream",
     "text": [
      "26\n"
     ]
    }
   ],
   "source": [
    "x = scot_data_cl[(scot_data_cl['FeatureCode']=='S12000033')&(scot_data_cl['DateCode']==2005)]\n",
    "print(len(x))\n"
   ]
  },
  {
   "cell_type": "code",
   "execution_count": 20,
   "id": "35b4dc50",
   "metadata": {},
   "outputs": [],
   "source": [
    "### Working on cleaned Data "
   ]
  },
  {
   "cell_type": "code",
   "execution_count": 21,
   "id": "7f84dc98",
   "metadata": {},
   "outputs": [],
   "source": [
    "scot_data = pd.read_csv(\"Data/Scotland Cleaned Data.csv\")"
   ]
  },
  {
   "cell_type": "code",
   "execution_count": 22,
   "id": "cdb39e65",
   "metadata": {},
   "outputs": [
    {
     "data": {
      "text/html": [
       "<div>\n",
       "<style scoped>\n",
       "    .dataframe tbody tr th:only-of-type {\n",
       "        vertical-align: middle;\n",
       "    }\n",
       "\n",
       "    .dataframe tbody tr th {\n",
       "        vertical-align: top;\n",
       "    }\n",
       "\n",
       "    .dataframe thead th {\n",
       "        text-align: right;\n",
       "    }\n",
       "</style>\n",
       "<table border=\"1\" class=\"dataframe\">\n",
       "  <thead>\n",
       "    <tr style=\"text-align: right;\">\n",
       "      <th></th>\n",
       "      <th>FeatureCode</th>\n",
       "      <th>FeatureName</th>\n",
       "      <th>FeatureType</th>\n",
       "      <th>DateCode</th>\n",
       "      <th>Measurement</th>\n",
       "      <th>Units</th>\n",
       "      <th>Value</th>\n",
       "      <th>Energy Type</th>\n",
       "      <th>Energy Consuming Sector</th>\n",
       "    </tr>\n",
       "  </thead>\n",
       "  <tbody>\n",
       "    <tr>\n",
       "      <th>0</th>\n",
       "      <td>S12000039</td>\n",
       "      <td>West Dunbartonshire</td>\n",
       "      <td>Council Area</td>\n",
       "      <td>2005</td>\n",
       "      <td>Count</td>\n",
       "      <td>GWh</td>\n",
       "      <td>0.000</td>\n",
       "      <td>Coal</td>\n",
       "      <td>Rail</td>\n",
       "    </tr>\n",
       "    <tr>\n",
       "      <th>1</th>\n",
       "      <td>S12000039</td>\n",
       "      <td>West Dunbartonshire</td>\n",
       "      <td>Council Area</td>\n",
       "      <td>2005</td>\n",
       "      <td>Count</td>\n",
       "      <td>GWh</td>\n",
       "      <td>192.383</td>\n",
       "      <td>Electricity</td>\n",
       "      <td>Domestic</td>\n",
       "    </tr>\n",
       "    <tr>\n",
       "      <th>2</th>\n",
       "      <td>S12000039</td>\n",
       "      <td>West Dunbartonshire</td>\n",
       "      <td>Council Area</td>\n",
       "      <td>2005</td>\n",
       "      <td>Count</td>\n",
       "      <td>GWh</td>\n",
       "      <td>0.176</td>\n",
       "      <td>Coal</td>\n",
       "      <td>Public Sector</td>\n",
       "    </tr>\n",
       "    <tr>\n",
       "      <th>3</th>\n",
       "      <td>S12000039</td>\n",
       "      <td>West Dunbartonshire</td>\n",
       "      <td>Council Area</td>\n",
       "      <td>2005</td>\n",
       "      <td>Count</td>\n",
       "      <td>GWh</td>\n",
       "      <td>664.980</td>\n",
       "      <td>Gas</td>\n",
       "      <td>Domestic</td>\n",
       "    </tr>\n",
       "    <tr>\n",
       "      <th>4</th>\n",
       "      <td>S12000039</td>\n",
       "      <td>West Dunbartonshire</td>\n",
       "      <td>Council Area</td>\n",
       "      <td>2005</td>\n",
       "      <td>Count</td>\n",
       "      <td>GWh</td>\n",
       "      <td>250.801</td>\n",
       "      <td>Electricity</td>\n",
       "      <td>Industrial &amp; Commercial</td>\n",
       "    </tr>\n",
       "    <tr>\n",
       "      <th>5</th>\n",
       "      <td>S12000039</td>\n",
       "      <td>West Dunbartonshire</td>\n",
       "      <td>Council Area</td>\n",
       "      <td>2005</td>\n",
       "      <td>Count</td>\n",
       "      <td>GWh</td>\n",
       "      <td>1.127</td>\n",
       "      <td>Bioenergy &amp; Wastes</td>\n",
       "      <td>Domestic</td>\n",
       "    </tr>\n",
       "    <tr>\n",
       "      <th>6</th>\n",
       "      <td>S12000039</td>\n",
       "      <td>West Dunbartonshire</td>\n",
       "      <td>Council Area</td>\n",
       "      <td>2005</td>\n",
       "      <td>Count</td>\n",
       "      <td>GWh</td>\n",
       "      <td>0.182</td>\n",
       "      <td>Coal</td>\n",
       "      <td>Domestic</td>\n",
       "    </tr>\n",
       "    <tr>\n",
       "      <th>7</th>\n",
       "      <td>S12000039</td>\n",
       "      <td>West Dunbartonshire</td>\n",
       "      <td>Council Area</td>\n",
       "      <td>2005</td>\n",
       "      <td>Count</td>\n",
       "      <td>GWh</td>\n",
       "      <td>0.005</td>\n",
       "      <td>Coal</td>\n",
       "      <td>Agriculture</td>\n",
       "    </tr>\n",
       "    <tr>\n",
       "      <th>8</th>\n",
       "      <td>S12000039</td>\n",
       "      <td>West Dunbartonshire</td>\n",
       "      <td>Council Area</td>\n",
       "      <td>2005</td>\n",
       "      <td>Count</td>\n",
       "      <td>GWh</td>\n",
       "      <td>528.530</td>\n",
       "      <td>Petroleum Products</td>\n",
       "      <td>Road Transport</td>\n",
       "    </tr>\n",
       "    <tr>\n",
       "      <th>9</th>\n",
       "      <td>S12000039</td>\n",
       "      <td>West Dunbartonshire</td>\n",
       "      <td>Council Area</td>\n",
       "      <td>2006</td>\n",
       "      <td>Count</td>\n",
       "      <td>GWh</td>\n",
       "      <td>1.268</td>\n",
       "      <td>Bioenergy &amp; Wastes</td>\n",
       "      <td>Domestic</td>\n",
       "    </tr>\n",
       "  </tbody>\n",
       "</table>\n",
       "</div>"
      ],
      "text/plain": [
       "  FeatureCode          FeatureName   FeatureType  DateCode Measurement Units  \\\n",
       "0   S12000039  West Dunbartonshire  Council Area      2005       Count   GWh   \n",
       "1   S12000039  West Dunbartonshire  Council Area      2005       Count   GWh   \n",
       "2   S12000039  West Dunbartonshire  Council Area      2005       Count   GWh   \n",
       "3   S12000039  West Dunbartonshire  Council Area      2005       Count   GWh   \n",
       "4   S12000039  West Dunbartonshire  Council Area      2005       Count   GWh   \n",
       "5   S12000039  West Dunbartonshire  Council Area      2005       Count   GWh   \n",
       "6   S12000039  West Dunbartonshire  Council Area      2005       Count   GWh   \n",
       "7   S12000039  West Dunbartonshire  Council Area      2005       Count   GWh   \n",
       "8   S12000039  West Dunbartonshire  Council Area      2005       Count   GWh   \n",
       "9   S12000039  West Dunbartonshire  Council Area      2006       Count   GWh   \n",
       "\n",
       "     Value         Energy Type  Energy Consuming Sector  \n",
       "0    0.000                Coal                     Rail  \n",
       "1  192.383         Electricity                 Domestic  \n",
       "2    0.176                Coal            Public Sector  \n",
       "3  664.980                 Gas                 Domestic  \n",
       "4  250.801         Electricity  Industrial & Commercial  \n",
       "5    1.127  Bioenergy & Wastes                 Domestic  \n",
       "6    0.182                Coal                 Domestic  \n",
       "7    0.005                Coal              Agriculture  \n",
       "8  528.530  Petroleum Products           Road Transport  \n",
       "9    1.268  Bioenergy & Wastes                 Domestic  "
      ]
     },
     "execution_count": 22,
     "metadata": {},
     "output_type": "execute_result"
    }
   ],
   "source": [
    "scot_data.head(10)"
   ]
  },
  {
   "cell_type": "code",
   "execution_count": 23,
   "id": "97cdd14d",
   "metadata": {},
   "outputs": [],
   "source": [
    "# first see how many different features are there and in each rows how many different values there are."
   ]
  },
  {
   "cell_type": "code",
   "execution_count": 24,
   "id": "c122f7fb",
   "metadata": {},
   "outputs": [
    {
     "name": "stdout",
     "output_type": "stream",
     "text": [
      "Number of feature in this Data Set: 9\n"
     ]
    }
   ],
   "source": [
    "no_col = scot_data.shape[1]\n",
    "print(\"Number of feature in this Data Set: \" + str(no_col))"
   ]
  },
  {
   "cell_type": "code",
   "execution_count": 25,
   "id": "63512fe6",
   "metadata": {},
   "outputs": [],
   "source": [
    "# now explore how many different values in each features."
   ]
  },
  {
   "cell_type": "code",
   "execution_count": 26,
   "id": "a666604f",
   "metadata": {},
   "outputs": [
    {
     "name": "stdout",
     "output_type": "stream",
     "text": [
      "Distinct Feature Code:  ['S12000039' 'S12000040' 'S12000005' 'S12000006' 'S12000008' 'S12000010'\n",
      " 'S12000011' 'S12000013' 'S12000014' 'S12000017' 'S12000018' 'S12000019'\n",
      " 'S12000020' 'S12000021' 'S12000023' 'S12000026' 'S12000027' 'S12000028'\n",
      " 'S12000029' 'S12000030' 'S12000033' 'S12000034' 'S12000035' 'S12000036'\n",
      " 'S12000038' 'S12000041' 'S12000042' 'S12000045' 'S12000047' 'S12000048'\n",
      " 'S12000049' 'S12000050']\n"
     ]
    }
   ],
   "source": [
    "# feature code\n",
    "\n",
    "dist_Feature_code = scot_data['FeatureCode'].unique()\n",
    "\n",
    "print(\"Distinct Feature Code: \", dist_Feature_code)\n"
   ]
  },
  {
   "cell_type": "markdown",
   "id": "b91e1fd4",
   "metadata": {},
   "source": [
    "there are 32 distinct feature code "
   ]
  },
  {
   "cell_type": "code",
   "execution_count": 27,
   "id": "f8939e9b",
   "metadata": {},
   "outputs": [
    {
     "name": "stdout",
     "output_type": "stream",
     "text": [
      "Distinct Feature Name:  ['West Dunbartonshire' 'West Lothian' 'Clackmannanshire'\n",
      " 'Dumfries and Galloway' 'East Ayrshire' 'East Lothian'\n",
      " 'East Renfrewshire' 'Na h-Eileanan Siar' 'Falkirk' 'Highland'\n",
      " 'Inverclyde' 'Midlothian' 'Moray' 'North Ayrshire' 'Orkney Islands'\n",
      " 'Scottish Borders' 'Shetland Islands' 'South Ayrshire'\n",
      " 'South Lanarkshire' 'Stirling' 'Aberdeen City' 'Aberdeenshire'\n",
      " 'Argyll and Bute' 'City of Edinburgh' 'Renfrewshire' 'Angus'\n",
      " 'Dundee City' 'East Dunbartonshire' 'Fife' 'Perth and Kinross'\n",
      " 'Glasgow City' 'North Lanarkshire']\n"
     ]
    }
   ],
   "source": [
    "# feature Name\n",
    "\n",
    "dist_Feature_name = scot_data['FeatureName'].unique()\n",
    "\n",
    "print(\"Distinct Feature Name: \", dist_Feature_name)"
   ]
  },
  {
   "cell_type": "markdown",
   "id": "2ecd679b",
   "metadata": {},
   "source": [
    "there are 32 different councils in Scotland"
   ]
  },
  {
   "cell_type": "code",
   "execution_count": 28,
   "id": "561cf365",
   "metadata": {},
   "outputs": [
    {
     "name": "stdout",
     "output_type": "stream",
     "text": [
      "Distinct Feature Type:  ['Council Area']\n"
     ]
    }
   ],
   "source": [
    "# feature Type\n",
    "\n",
    "dist_Feature_type = scot_data['FeatureType'].unique()\n",
    "\n",
    "print(\"Distinct Feature Type: \", dist_Feature_type)"
   ]
  },
  {
   "cell_type": "markdown",
   "id": "e406442b",
   "metadata": {},
   "source": [
    "in this column only one type of values is there "
   ]
  },
  {
   "cell_type": "code",
   "execution_count": 29,
   "id": "3f909853",
   "metadata": {},
   "outputs": [
    {
     "name": "stdout",
     "output_type": "stream",
     "text": [
      "Distinct Date Code:  [2005 2006 2007 2008 2017 2018 2019 2015 2016 2013 2012 2014 2011 2010\n",
      " 2009 2020]\n"
     ]
    }
   ],
   "source": [
    "# feature DateCode\n",
    "\n",
    "dist_date_code = scot_data['DateCode'].unique()\n",
    "\n",
    "print(\"Distinct Date Code: \", dist_date_code)"
   ]
  },
  {
   "cell_type": "markdown",
   "id": "17d0ed0d",
   "metadata": {},
   "source": [
    "in this column there are 16 different values which varies from 2005 to 2020 "
   ]
  },
  {
   "cell_type": "code",
   "execution_count": 30,
   "id": "f1e94e1e",
   "metadata": {},
   "outputs": [
    {
     "name": "stdout",
     "output_type": "stream",
     "text": [
      "Distinct Measurement:  ['Count']\n"
     ]
    }
   ],
   "source": [
    "# feature Measurement\n",
    "\n",
    "dist_Measurement = scot_data['Measurement'].unique()\n",
    "\n",
    "print(\"Distinct Measurement: \", dist_Measurement)"
   ]
  },
  {
   "cell_type": "markdown",
   "id": "76ea531d",
   "metadata": {},
   "source": [
    "this column contains only one distinct value."
   ]
  },
  {
   "cell_type": "code",
   "execution_count": 31,
   "id": "15f23bf6",
   "metadata": {},
   "outputs": [
    {
     "name": "stdout",
     "output_type": "stream",
     "text": [
      "Distinct Units:  ['Council Area']\n"
     ]
    }
   ],
   "source": [
    "# feature Units\n",
    "\n",
    "dist_Units = scot_data['Units'].unique()\n",
    "\n",
    "print(\"Distinct Units: \", dist_Feature_type)"
   ]
  },
  {
   "cell_type": "markdown",
   "id": "c3c4a56f",
   "metadata": {},
   "source": [
    "this column contains only one distinct value."
   ]
  },
  {
   "cell_type": "code",
   "execution_count": 32,
   "id": "bd7e7913",
   "metadata": {},
   "outputs": [
    {
     "name": "stdout",
     "output_type": "stream",
     "text": [
      "Distinct Energy Type:  ['Coal' 'Electricity' 'Gas' 'Bioenergy & Wastes' 'Petroleum Products'\n",
      " 'Manufactured Fuels']\n"
     ]
    }
   ],
   "source": [
    "# feature Energy Type\n",
    "\n",
    "dist_Energy_Type = scot_data['Energy Type'].unique()\n",
    "\n",
    "print(\"Distinct Energy Type: \", dist_Energy_Type)"
   ]
  },
  {
   "cell_type": "markdown",
   "id": "8a69b477",
   "metadata": {},
   "source": [
    "The output indicates the distinct types of energy used in a given context. The different energy types listed are:\n",
    "\n",
    "Coal\n",
    "\n",
    "Electricity\n",
    "\n",
    "Gas\n",
    "\n",
    "Bioenergy & Wastes\n",
    "\n",
    "Petroleum Products\n",
    "\n",
    "Manufactured Fuels"
   ]
  },
  {
   "cell_type": "code",
   "execution_count": 33,
   "id": "3cda124e",
   "metadata": {},
   "outputs": [
    {
     "name": "stdout",
     "output_type": "stream",
     "text": [
      "Distinct Energy Consuming Sector:  ['Rail' 'Domestic' 'Public Sector' 'Industrial & Commercial' 'Agriculture'\n",
      " 'Road Transport' 'Commercial' 'Industrial']\n"
     ]
    }
   ],
   "source": [
    "# feature Energy Consuming Sector\n",
    "\n",
    "dist_Energy_Consuming = scot_data['Energy Consuming Sector'].unique()\n",
    "\n",
    "print(\"Distinct Energy Consuming Sector: \", dist_Energy_Consuming)"
   ]
  },
  {
   "cell_type": "markdown",
   "id": "7e55fc44",
   "metadata": {},
   "source": [
    "The output lists the distinct sectors or industries that consume energy in a given context. The different sectors listed are:\n",
    "\n",
    "Rail\n",
    "\n",
    "Domestic\n",
    "\n",
    "Public Sector\n",
    "\n",
    "Industrial & Commercial\n",
    "\n",
    "Agriculture\n",
    "\n",
    "Road Transport\n",
    "\n",
    "Commercial\n",
    "\n",
    "Industrial"
   ]
  },
  {
   "cell_type": "code",
   "execution_count": 34,
   "id": "4b785a2c",
   "metadata": {},
   "outputs": [
    {
     "name": "stdout",
     "output_type": "stream",
     "text": [
      "Distinct Value:  [0.000000e+00 1.923830e+02 1.760000e-01 ... 3.268700e+01 1.976400e+01\n",
      " 2.781782e+03]\n"
     ]
    }
   ],
   "source": [
    "# feature Value\n",
    "\n",
    "dist_Value = scot_data['Value'].unique()\n",
    "\n",
    "print(\"Distinct Value: \", dist_Value)"
   ]
  },
  {
   "cell_type": "markdown",
   "id": "a1b383f1",
   "metadata": {},
   "source": [
    "all the values is in GWh so i will remove uneccessary columns from the dataframe"
   ]
  },
  {
   "cell_type": "code",
   "execution_count": 36,
   "id": "8a42f615",
   "metadata": {},
   "outputs": [],
   "source": [
    "# removing three columns FeatureType,Measurement and Units\n",
    "\n",
    "scot_data = scot_data.drop([\"FeatureType\",\"Measurement\",\"Energy Type\",\"Units\"], axis = 1)\n",
    "scot_data = scot_data.sort_values(by=['DateCode'], ascending=True)"
   ]
  },
  {
   "cell_type": "code",
   "execution_count": 37,
   "id": "aafd057a",
   "metadata": {},
   "outputs": [
    {
     "name": "stdout",
     "output_type": "stream",
     "text": [
      "FeatureCode                 object\n",
      "FeatureName                 object\n",
      "DateCode                     int64\n",
      "Value                      float64\n",
      "Energy Consuming Sector     object\n",
      "dtype: object\n"
     ]
    },
    {
     "data": {
      "text/html": [
       "<div>\n",
       "<style scoped>\n",
       "    .dataframe tbody tr th:only-of-type {\n",
       "        vertical-align: middle;\n",
       "    }\n",
       "\n",
       "    .dataframe tbody tr th {\n",
       "        vertical-align: top;\n",
       "    }\n",
       "\n",
       "    .dataframe thead th {\n",
       "        text-align: right;\n",
       "    }\n",
       "</style>\n",
       "<table border=\"1\" class=\"dataframe\">\n",
       "  <thead>\n",
       "    <tr style=\"text-align: right;\">\n",
       "      <th></th>\n",
       "      <th>FeatureCode</th>\n",
       "      <th>FeatureName</th>\n",
       "      <th>DateCode</th>\n",
       "      <th>Value</th>\n",
       "      <th>Energy Consuming Sector</th>\n",
       "    </tr>\n",
       "  </thead>\n",
       "  <tbody>\n",
       "    <tr>\n",
       "      <th>0</th>\n",
       "      <td>S12000039</td>\n",
       "      <td>West Dunbartonshire</td>\n",
       "      <td>2005</td>\n",
       "      <td>0.000</td>\n",
       "      <td>Rail</td>\n",
       "    </tr>\n",
       "    <tr>\n",
       "      <th>1501</th>\n",
       "      <td>S12000006</td>\n",
       "      <td>Dumfries and Galloway</td>\n",
       "      <td>2005</td>\n",
       "      <td>578.151</td>\n",
       "      <td>Industrial &amp; Commercial</td>\n",
       "    </tr>\n",
       "    <tr>\n",
       "      <th>1500</th>\n",
       "      <td>S12000006</td>\n",
       "      <td>Dumfries and Galloway</td>\n",
       "      <td>2005</td>\n",
       "      <td>403.875</td>\n",
       "      <td>Domestic</td>\n",
       "    </tr>\n",
       "    <tr>\n",
       "      <th>6691</th>\n",
       "      <td>S12000027</td>\n",
       "      <td>Shetland Islands</td>\n",
       "      <td>2005</td>\n",
       "      <td>88.748</td>\n",
       "      <td>Industrial</td>\n",
       "    </tr>\n",
       "    <tr>\n",
       "      <th>6693</th>\n",
       "      <td>S12000027</td>\n",
       "      <td>Shetland Islands</td>\n",
       "      <td>2005</td>\n",
       "      <td>7.092</td>\n",
       "      <td>Commercial</td>\n",
       "    </tr>\n",
       "    <tr>\n",
       "      <th>6791</th>\n",
       "      <td>S12000027</td>\n",
       "      <td>Shetland Islands</td>\n",
       "      <td>2005</td>\n",
       "      <td>107.461</td>\n",
       "      <td>Domestic</td>\n",
       "    </tr>\n",
       "    <tr>\n",
       "      <th>6792</th>\n",
       "      <td>S12000027</td>\n",
       "      <td>Shetland Islands</td>\n",
       "      <td>2005</td>\n",
       "      <td>102.042</td>\n",
       "      <td>Industrial &amp; Commercial</td>\n",
       "    </tr>\n",
       "    <tr>\n",
       "      <th>6793</th>\n",
       "      <td>S12000027</td>\n",
       "      <td>Shetland Islands</td>\n",
       "      <td>2005</td>\n",
       "      <td>0.000</td>\n",
       "      <td>Rail</td>\n",
       "    </tr>\n",
       "    <tr>\n",
       "      <th>1502</th>\n",
       "      <td>S12000006</td>\n",
       "      <td>Dumfries and Galloway</td>\n",
       "      <td>2005</td>\n",
       "      <td>0.000</td>\n",
       "      <td>Rail</td>\n",
       "    </tr>\n",
       "    <tr>\n",
       "      <th>6794</th>\n",
       "      <td>S12000027</td>\n",
       "      <td>Shetland Islands</td>\n",
       "      <td>2005</td>\n",
       "      <td>2.971</td>\n",
       "      <td>Domestic</td>\n",
       "    </tr>\n",
       "  </tbody>\n",
       "</table>\n",
       "</div>"
      ],
      "text/plain": [
       "     FeatureCode            FeatureName  DateCode    Value  \\\n",
       "0      S12000039    West Dunbartonshire      2005    0.000   \n",
       "1501   S12000006  Dumfries and Galloway      2005  578.151   \n",
       "1500   S12000006  Dumfries and Galloway      2005  403.875   \n",
       "6691   S12000027       Shetland Islands      2005   88.748   \n",
       "6693   S12000027       Shetland Islands      2005    7.092   \n",
       "6791   S12000027       Shetland Islands      2005  107.461   \n",
       "6792   S12000027       Shetland Islands      2005  102.042   \n",
       "6793   S12000027       Shetland Islands      2005    0.000   \n",
       "1502   S12000006  Dumfries and Galloway      2005    0.000   \n",
       "6794   S12000027       Shetland Islands      2005    2.971   \n",
       "\n",
       "      Energy Consuming Sector  \n",
       "0                        Rail  \n",
       "1501  Industrial & Commercial  \n",
       "1500                 Domestic  \n",
       "6691               Industrial  \n",
       "6693               Commercial  \n",
       "6791                 Domestic  \n",
       "6792  Industrial & Commercial  \n",
       "6793                     Rail  \n",
       "1502                     Rail  \n",
       "6794                 Domestic  "
      ]
     },
     "execution_count": 37,
     "metadata": {},
     "output_type": "execute_result"
    }
   ],
   "source": [
    "print(scot_data.dtypes)\n",
    "scot_data.head(10)"
   ]
  },
  {
   "cell_type": "code",
   "execution_count": 38,
   "id": "a2b7d2de",
   "metadata": {},
   "outputs": [],
   "source": [
    "# Performed EDA"
   ]
  },
  {
   "cell_type": "code",
   "execution_count": 39,
   "id": "de04de2f",
   "metadata": {},
   "outputs": [],
   "source": [
    "# exporting data file\n",
    "scot_data.to_csv('Data/Scotland Final Model Data.csv', index=False)"
   ]
  },
  {
   "cell_type": "code",
   "execution_count": 40,
   "id": "a83b14dc",
   "metadata": {},
   "outputs": [],
   "source": [
    "# separate the features and target variable\n",
    "X = scot_data[['FeatureCode', 'DateCode', 'Energy Consuming Sector']]\n",
    "y = scot_data['Value']"
   ]
  },
  {
   "cell_type": "code",
   "execution_count": 41,
   "id": "3c4bd73f",
   "metadata": {},
   "outputs": [],
   "source": [
    "# convert categorical features to numerical\n",
    "X = pd.get_dummies(X)"
   ]
  },
  {
   "cell_type": "code",
   "execution_count": 42,
   "id": "495d8fa3",
   "metadata": {},
   "outputs": [],
   "source": [
    "# split the data into training and test sets\n",
    "X_train, X_test, y_train, y_test = train_test_split(X, y, test_size=0.2, random_state=42)"
   ]
  },
  {
   "cell_type": "code",
   "execution_count": 43,
   "id": "2db06a2b",
   "metadata": {},
   "outputs": [
    {
     "name": "stdout",
     "output_type": "stream",
     "text": [
      "0.12377836778457196\n"
     ]
    }
   ],
   "source": [
    "# Linear Regression\n",
    "\n",
    "# create and train the model\n",
    "model = LinearRegression()\n",
    "model.fit(X_train, y_train)\n",
    "# evaluate the model on the test set\n",
    "score = model.score(X_test, y_test)\n",
    "print(score)"
   ]
  },
  {
   "cell_type": "code",
   "execution_count": 44,
   "id": "209134cd",
   "metadata": {},
   "outputs": [
    {
     "name": "stdout",
     "output_type": "stream",
     "text": [
      "Mean Absolute Error: 270.21\n",
      "Mean Squared Error: 627532.49\n",
      "Root Mean Squared Error: 792.17\n",
      "R-squared Score: -0.28\n"
     ]
    }
   ],
   "source": [
    "# Decision Tree\n",
    "import numpy as np\n",
    "import pandas as pd\n",
    "from sklearn.model_selection import train_test_split\n",
    "from sklearn.tree import DecisionTreeRegressor\n",
    "from sklearn.metrics import mean_absolute_error, mean_squared_error, r2_score\n",
    "\n",
    "# Assuming you already have X and y defined\n",
    "# Split the dataset into training and testing sets\n",
    "X_train, X_test, y_train, y_test = train_test_split(X, y, test_size=0.3, random_state=42)\n",
    "\n",
    "# Create a Decision Tree Regressor instance and fit the model to the training data\n",
    "dt_regressor = DecisionTreeRegressor(random_state=42)\n",
    "dt_regressor.fit(X_train, y_train)\n",
    "\n",
    "# Make predictions on the test set\n",
    "y_pred = dt_regressor.predict(X_test)\n",
    "\n",
    "# Calculate the evaluation metrics\n",
    "mae = mean_absolute_error(y_test, y_pred)\n",
    "mse = mean_squared_error(y_test, y_pred)\n",
    "rmse = np.sqrt(mse)\n",
    "r2 = r2_score(y_test, y_pred)\n",
    "\n",
    "# Print the evaluation metrics\n",
    "print(f\"Mean Absolute Error: {mae:.2f}\")\n",
    "print(f\"Mean Squared Error: {mse:.2f}\")\n",
    "print(f\"Root Mean Squared Error: {rmse:.2f}\")\n",
    "print(f\"R-squared Score: {r2:.2f}\")\n"
   ]
  },
  {
   "cell_type": "code",
   "execution_count": 45,
   "id": "c7ac6974",
   "metadata": {},
   "outputs": [
    {
     "name": "stdout",
     "output_type": "stream",
     "text": [
      "Mean Absolute Error: 257.58\n",
      "Mean Squared Error: 593379.73\n",
      "Root Mean Squared Error: 770.31\n",
      "R-squared Score: -0.21\n"
     ]
    }
   ],
   "source": [
    "import numpy as np\n",
    "import pandas as pd\n",
    "from sklearn.model_selection import train_test_split\n",
    "from sklearn.ensemble import RandomForestRegressor\n",
    "from sklearn.metrics import mean_absolute_error, mean_squared_error, r2_score\n",
    "\n",
    "# Assuming you already have X and y defined\n",
    "# Split the dataset into training and testing sets\n",
    "X_train, X_test, y_train, y_test = train_test_split(X, y, test_size=0.3, random_state=42)\n",
    "\n",
    "# Create a Random Forest Regressor instance and fit the model to the training data\n",
    "rf_regressor = RandomForestRegressor(n_estimators=100, random_state=42)\n",
    "rf_regressor.fit(X_train, y_train)\n",
    "\n",
    "# Make predictions on the test set\n",
    "y_pred = rf_regressor.predict(X_test)\n",
    "\n",
    "# Calculate the evaluation metrics\n",
    "mae = mean_absolute_error(y_test, y_pred)\n",
    "mse = mean_squared_error(y_test, y_pred)\n",
    "rmse = np.sqrt(mse)\n",
    "r2 = r2_score(y_test, y_pred)\n",
    "\n",
    "# Print the evaluation metrics\n",
    "print(f\"Mean Absolute Error: {mae:.2f}\")\n",
    "print(f\"Mean Squared Error: {mse:.2f}\")\n",
    "print(f\"Root Mean Squared Error: {rmse:.2f}\")\n",
    "print(f\"R-squared Score: {r2:.2f}\")\n"
   ]
  },
  {
   "cell_type": "code",
   "execution_count": null,
   "id": "09d73073",
   "metadata": {},
   "outputs": [],
   "source": [
    "import numpy as np\n",
    "import pandas as pd\n",
    "from sklearn.model_selection import train_test_split\n",
    "from sklearn.preprocessing import StandardScaler\n",
    "from sklearn.metrics import mean_absolute_error, mean_squared_error, r2_score\n",
    "from tensorflow.keras.models import Sequential\n",
    "from tensorflow.keras.layers import Dense\n",
    "\n",
    "# Assuming you already have X and y defined\n",
    "# Split the dataset into training and testing sets\n",
    "X_train, X_test, y_train, y_test = train_test_split(X, y, test_size=0.3, random_state=42)\n",
    "\n",
    "# Standardize the features\n",
    "scaler = StandardScaler()\n",
    "X_train_scaled = scaler.fit_transform(X_train)\n",
    "X_test_scaled = scaler.transform(X_test)\n",
    "\n",
    "# Create the ANN model\n",
    "model = Sequential()\n",
    "model.add(Dense(64, input_dim=X_train_scaled.shape[1], activation='relu'))\n",
    "model.add(Dense(32, activation='relu'))\n",
    "model.add(Dense(1))\n",
    "\n",
    "# Compile the model\n",
    "model.compile(optimizer='adam', loss='mse')\n",
    "\n",
    "# Fit the model to the training data\n",
    "model.fit(X_train_scaled, y_train, epochs=100, batch_size=32, verbose=0)\n",
    "\n",
    "# Make predictions on the test set\n",
    "y_pred = model.predict(X_test_scaled).flatten()\n",
    "\n",
    "# Calculate the evaluation metrics\n",
    "mae = mean_absolute_error(y_test, y_pred)\n",
    "mse = mean_squared_error(y_test, y_pred)\n",
    "rmse = np.sqrt(mse)\n",
    "r2 = r2_score(y_test, y_pred)\n",
    "\n",
    "# Print the evaluation metrics\n",
    "print(f\"Mean Absolute Error: {mae:.2f}\")\n",
    "print(f\"Mean Squared Error: {mse:.2f}\")\n",
    "print(f\"Root Mean Squared Error: {rmse:.2f}\")\n",
    "print(f\"R-squared Score: {r2:.2f}\")\n"
   ]
  },
  {
   "cell_type": "code",
   "execution_count": null,
   "id": "9488e9fb",
   "metadata": {},
   "outputs": [],
   "source": []
  },
  {
   "cell_type": "code",
   "execution_count": null,
   "id": "dd673558",
   "metadata": {},
   "outputs": [],
   "source": [
    "# Deploying"
   ]
  },
  {
   "cell_type": "code",
   "execution_count": null,
   "id": "b3d7fcf9",
   "metadata": {},
   "outputs": [],
   "source": []
  },
  {
   "cell_type": "code",
   "execution_count": null,
   "id": "c57302c6",
   "metadata": {},
   "outputs": [],
   "source": []
  },
  {
   "cell_type": "code",
   "execution_count": null,
   "id": "4a474f3e",
   "metadata": {},
   "outputs": [],
   "source": []
  },
  {
   "cell_type": "code",
   "execution_count": null,
   "id": "0b7cdefa",
   "metadata": {},
   "outputs": [],
   "source": []
  },
  {
   "cell_type": "code",
   "execution_count": null,
   "id": "fbaa35b0",
   "metadata": {},
   "outputs": [],
   "source": []
  }
 ],
 "metadata": {
  "kernelspec": {
   "display_name": "Python 3 (ipykernel)",
   "language": "python",
   "name": "python3"
  },
  "language_info": {
   "codemirror_mode": {
    "name": "ipython",
    "version": 3
   },
   "file_extension": ".py",
   "mimetype": "text/x-python",
   "name": "python",
   "nbconvert_exporter": "python",
   "pygments_lexer": "ipython3",
   "version": "3.9.12"
  }
 },
 "nbformat": 4,
 "nbformat_minor": 5
}
