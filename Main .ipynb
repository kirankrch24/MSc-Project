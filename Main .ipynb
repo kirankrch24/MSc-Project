{
 "cells": [
  {
   "cell_type": "markdown",
   "id": "150a9f47",
   "metadata": {},
   "source": [
    "# MSc Project"
   ]
  },
  {
   "cell_type": "markdown",
   "id": "1b592688",
   "metadata": {},
   "source": [
    "## Importing data "
   ]
  },
  {
   "cell_type": "code",
   "execution_count": 3,
   "id": "88a4bb36",
   "metadata": {},
   "outputs": [],
   "source": [
    "import pandas as pd\n",
    "from sklearn.svm import SVR\n",
    "import matplotlib.pyplot as plt\n",
    "from sklearn.metrics import mean_squared_error\n",
    "from sklearn.preprocessing import StandardScaler\n",
    "from sklearn.linear_model import LinearRegression\n",
    "from sklearn.model_selection import train_test_split"
   ]
  },
  {
   "cell_type": "code",
   "execution_count": 4,
   "id": "4dc0a303",
   "metadata": {},
   "outputs": [
    {
     "name": "stdout",
     "output_type": "stream",
     "text": [
      "length of Scotland Data 19008\n"
     ]
    },
    {
     "data": {
      "text/html": [
       "<div>\n",
       "<style scoped>\n",
       "    .dataframe tbody tr th:only-of-type {\n",
       "        vertical-align: middle;\n",
       "    }\n",
       "\n",
       "    .dataframe tbody tr th {\n",
       "        vertical-align: top;\n",
       "    }\n",
       "\n",
       "    .dataframe thead th {\n",
       "        text-align: right;\n",
       "    }\n",
       "</style>\n",
       "<table border=\"1\" class=\"dataframe\">\n",
       "  <thead>\n",
       "    <tr style=\"text-align: right;\">\n",
       "      <th></th>\n",
       "      <th>FeatureCode</th>\n",
       "      <th>FeatureName</th>\n",
       "      <th>FeatureType</th>\n",
       "      <th>DateCode</th>\n",
       "      <th>Measurement</th>\n",
       "      <th>Units</th>\n",
       "      <th>Value</th>\n",
       "      <th>Energy Type</th>\n",
       "      <th>Energy Consuming Sector</th>\n",
       "    </tr>\n",
       "  </thead>\n",
       "  <tbody>\n",
       "    <tr>\n",
       "      <th>0</th>\n",
       "      <td>S12000039</td>\n",
       "      <td>West Dunbartonshire</td>\n",
       "      <td>Council Area</td>\n",
       "      <td>2005</td>\n",
       "      <td>Count</td>\n",
       "      <td>GWh</td>\n",
       "      <td>0.000</td>\n",
       "      <td>Coal</td>\n",
       "      <td>Rail</td>\n",
       "    </tr>\n",
       "    <tr>\n",
       "      <th>1</th>\n",
       "      <td>S12000039</td>\n",
       "      <td>West Dunbartonshire</td>\n",
       "      <td>Council Area</td>\n",
       "      <td>2005</td>\n",
       "      <td>Count</td>\n",
       "      <td>GWh</td>\n",
       "      <td>192.383</td>\n",
       "      <td>Electricity</td>\n",
       "      <td>Domestic</td>\n",
       "    </tr>\n",
       "    <tr>\n",
       "      <th>2</th>\n",
       "      <td>S12000039</td>\n",
       "      <td>West Dunbartonshire</td>\n",
       "      <td>Council Area</td>\n",
       "      <td>2005</td>\n",
       "      <td>Count</td>\n",
       "      <td>GWh</td>\n",
       "      <td>0.176</td>\n",
       "      <td>Coal</td>\n",
       "      <td>Public Sector</td>\n",
       "    </tr>\n",
       "    <tr>\n",
       "      <th>3</th>\n",
       "      <td>S12000039</td>\n",
       "      <td>West Dunbartonshire</td>\n",
       "      <td>Council Area</td>\n",
       "      <td>2005</td>\n",
       "      <td>Count</td>\n",
       "      <td>GWh</td>\n",
       "      <td>664.980</td>\n",
       "      <td>Gas</td>\n",
       "      <td>Domestic</td>\n",
       "    </tr>\n",
       "    <tr>\n",
       "      <th>4</th>\n",
       "      <td>S12000039</td>\n",
       "      <td>West Dunbartonshire</td>\n",
       "      <td>Council Area</td>\n",
       "      <td>2005</td>\n",
       "      <td>Count</td>\n",
       "      <td>GWh</td>\n",
       "      <td>250.801</td>\n",
       "      <td>Electricity</td>\n",
       "      <td>Industrial &amp; Commercial</td>\n",
       "    </tr>\n",
       "    <tr>\n",
       "      <th>5</th>\n",
       "      <td>S12000039</td>\n",
       "      <td>West Dunbartonshire</td>\n",
       "      <td>Council Area</td>\n",
       "      <td>2005</td>\n",
       "      <td>Count</td>\n",
       "      <td>GWh</td>\n",
       "      <td>868.701</td>\n",
       "      <td>All</td>\n",
       "      <td>Domestic</td>\n",
       "    </tr>\n",
       "    <tr>\n",
       "      <th>6</th>\n",
       "      <td>S12000039</td>\n",
       "      <td>West Dunbartonshire</td>\n",
       "      <td>Council Area</td>\n",
       "      <td>2005</td>\n",
       "      <td>Count</td>\n",
       "      <td>GWh</td>\n",
       "      <td>1.127</td>\n",
       "      <td>Bioenergy &amp; Wastes</td>\n",
       "      <td>Domestic</td>\n",
       "    </tr>\n",
       "    <tr>\n",
       "      <th>7</th>\n",
       "      <td>S12000039</td>\n",
       "      <td>West Dunbartonshire</td>\n",
       "      <td>Council Area</td>\n",
       "      <td>2005</td>\n",
       "      <td>Count</td>\n",
       "      <td>GWh</td>\n",
       "      <td>639.841</td>\n",
       "      <td>All</td>\n",
       "      <td>Industrial &amp; Commercial</td>\n",
       "    </tr>\n",
       "    <tr>\n",
       "      <th>8</th>\n",
       "      <td>S12000039</td>\n",
       "      <td>West Dunbartonshire</td>\n",
       "      <td>Council Area</td>\n",
       "      <td>2005</td>\n",
       "      <td>Count</td>\n",
       "      <td>GWh</td>\n",
       "      <td>0.182</td>\n",
       "      <td>Coal</td>\n",
       "      <td>Domestic</td>\n",
       "    </tr>\n",
       "    <tr>\n",
       "      <th>9</th>\n",
       "      <td>S12000039</td>\n",
       "      <td>West Dunbartonshire</td>\n",
       "      <td>Council Area</td>\n",
       "      <td>2005</td>\n",
       "      <td>Count</td>\n",
       "      <td>GWh</td>\n",
       "      <td>0.005</td>\n",
       "      <td>Coal</td>\n",
       "      <td>Agriculture</td>\n",
       "    </tr>\n",
       "  </tbody>\n",
       "</table>\n",
       "</div>"
      ],
      "text/plain": [
       "  FeatureCode          FeatureName   FeatureType  DateCode Measurement Units  \\\n",
       "0   S12000039  West Dunbartonshire  Council Area      2005       Count   GWh   \n",
       "1   S12000039  West Dunbartonshire  Council Area      2005       Count   GWh   \n",
       "2   S12000039  West Dunbartonshire  Council Area      2005       Count   GWh   \n",
       "3   S12000039  West Dunbartonshire  Council Area      2005       Count   GWh   \n",
       "4   S12000039  West Dunbartonshire  Council Area      2005       Count   GWh   \n",
       "5   S12000039  West Dunbartonshire  Council Area      2005       Count   GWh   \n",
       "6   S12000039  West Dunbartonshire  Council Area      2005       Count   GWh   \n",
       "7   S12000039  West Dunbartonshire  Council Area      2005       Count   GWh   \n",
       "8   S12000039  West Dunbartonshire  Council Area      2005       Count   GWh   \n",
       "9   S12000039  West Dunbartonshire  Council Area      2005       Count   GWh   \n",
       "\n",
       "     Value         Energy Type  Energy Consuming Sector  \n",
       "0    0.000                Coal                     Rail  \n",
       "1  192.383         Electricity                 Domestic  \n",
       "2    0.176                Coal            Public Sector  \n",
       "3  664.980                 Gas                 Domestic  \n",
       "4  250.801         Electricity  Industrial & Commercial  \n",
       "5  868.701                 All                 Domestic  \n",
       "6    1.127  Bioenergy & Wastes                 Domestic  \n",
       "7  639.841                 All  Industrial & Commercial  \n",
       "8    0.182                Coal                 Domestic  \n",
       "9    0.005                Coal              Agriculture  "
      ]
     },
     "execution_count": 4,
     "metadata": {},
     "output_type": "execute_result"
    }
   ],
   "source": [
    "scot_csv_file_path = \"Data/Scotland Council Data .csv\"\n",
    "scot_data = pd.read_csv(scot_csv_file_path)\n",
    "\n",
    "print(\"length of Scotland Data \" + str(len(scot_data)))\n",
    "\n",
    "scot_data.head(10)\n"
   ]
  },
  {
   "cell_type": "markdown",
   "id": "e4b94df3",
   "metadata": {},
   "source": [
    "# Preforming Exploratory Data Analysis"
   ]
  },
  {
   "cell_type": "code",
   "execution_count": 5,
   "id": "d20991e6",
   "metadata": {},
   "outputs": [
    {
     "name": "stdout",
     "output_type": "stream",
     "text": [
      "West Dunbartonshire      576\n",
      "Shetland Islands         576\n",
      "Glasgow City             576\n",
      "Perth and Kinross        576\n",
      "Fife                     576\n",
      "East Dunbartonshire      576\n",
      "Dundee City              576\n",
      "Angus                    576\n",
      "Renfrewshire             576\n",
      "City of Edinburgh        576\n",
      "Argyll and Bute          576\n",
      "Aberdeenshire            576\n",
      "Aberdeen City            576\n",
      "Stirling                 576\n",
      "South Lanarkshire        576\n",
      "South Ayrshire           576\n",
      "Scottish Borders         576\n",
      "West Lothian             576\n",
      "Orkney Islands           576\n",
      "North Ayrshire           576\n",
      "Moray                    576\n",
      "Midlothian               576\n",
      "Inverclyde               576\n",
      "Highland                 576\n",
      "Falkirk                  576\n",
      "Na h-Eileanan Siar       576\n",
      "East Renfrewshire        576\n",
      "East Lothian             576\n",
      "East Ayrshire            576\n",
      "Dumfries and Galloway    576\n",
      "Clackmannanshire         576\n",
      "Scotland                 576\n",
      "North Lanarkshire        576\n",
      "Name: FeatureName, dtype: int64\n"
     ]
    }
   ],
   "source": [
    "# checking number of different councils in Scotland\n",
    "councils = scot_data['FeatureName'].value_counts()\n",
    "print(councils)"
   ]
  },
  {
   "cell_type": "code",
   "execution_count": 6,
   "id": "50573617",
   "metadata": {},
   "outputs": [],
   "source": [
    "# as it contains the data of scotland (as whole country), we don't need that, so we will remove it.\n",
    "# i'm making a copy and then start filtering "
   ]
  },
  {
   "cell_type": "code",
   "execution_count": 7,
   "id": "5b96a535",
   "metadata": {},
   "outputs": [],
   "source": [
    "scot_data_cl = scot_data[~(scot_data[\"FeatureName\"]==\"Scotland\")]"
   ]
  },
  {
   "cell_type": "code",
   "execution_count": 8,
   "id": "0429354f",
   "metadata": {},
   "outputs": [
    {
     "name": "stdout",
     "output_type": "stream",
     "text": [
      "length of Scotland Data 18432\n"
     ]
    }
   ],
   "source": [
    "print(\"length of Scotland Data \" + str(len(scot_data_cl)))"
   ]
  },
  {
   "cell_type": "code",
   "execution_count": 9,
   "id": "f065b1c9",
   "metadata": {},
   "outputs": [
    {
     "name": "stdout",
     "output_type": "stream",
     "text": [
      "West Dunbartonshire      576\n",
      "West Lothian             576\n",
      "Glasgow City             576\n",
      "Perth and Kinross        576\n",
      "Fife                     576\n",
      "East Dunbartonshire      576\n",
      "Dundee City              576\n",
      "Angus                    576\n",
      "Renfrewshire             576\n",
      "City of Edinburgh        576\n",
      "Argyll and Bute          576\n",
      "Aberdeenshire            576\n",
      "Aberdeen City            576\n",
      "Stirling                 576\n",
      "South Lanarkshire        576\n",
      "South Ayrshire           576\n",
      "Shetland Islands         576\n",
      "Scottish Borders         576\n",
      "Orkney Islands           576\n",
      "North Ayrshire           576\n",
      "Moray                    576\n",
      "Midlothian               576\n",
      "Inverclyde               576\n",
      "Highland                 576\n",
      "Falkirk                  576\n",
      "Na h-Eileanan Siar       576\n",
      "East Renfrewshire        576\n",
      "East Lothian             576\n",
      "East Ayrshire            576\n",
      "Dumfries and Galloway    576\n",
      "Clackmannanshire         576\n",
      "North Lanarkshire        576\n",
      "Name: FeatureName, dtype: int64\n",
      "Total number of councils in Scotland :  32\n"
     ]
    }
   ],
   "source": [
    "# now we removed all scotland country instances from the dataset \n",
    "\n",
    "# now we see how many councils are there in scotland \n",
    "\n",
    "councils = scot_data_cl['FeatureName'].value_counts()\n",
    "print(councils)\n",
    "print(\"Total number of councils in Scotland : \", scot_data_cl['FeatureName'].nunique())"
   ]
  },
  {
   "cell_type": "code",
   "execution_count": 10,
   "id": "79cdf9e2",
   "metadata": {},
   "outputs": [
    {
     "name": "stdout",
     "output_type": "stream",
     "text": [
      "FeatureCode                 object\n",
      "FeatureName                 object\n",
      "FeatureType                 object\n",
      "DateCode                     int64\n",
      "Measurement                 object\n",
      "Units                       object\n",
      "Value                      float64\n",
      "Energy Type                 object\n",
      "Energy Consuming Sector     object\n",
      "dtype: object\n"
     ]
    }
   ],
   "source": [
    "print(scot_data_cl.dtypes)"
   ]
  },
  {
   "cell_type": "code",
   "execution_count": 11,
   "id": "c32d61f6",
   "metadata": {},
   "outputs": [
    {
     "name": "stdout",
     "output_type": "stream",
     "text": [
      "      FeatureCode    FeatureName   FeatureType  DateCode Measurement Units  \\\n",
      "12147   S12000033  Aberdeen City  Council Area      2005       Count   GWh   \n",
      "12153   S12000033  Aberdeen City  Council Area      2005       Count   GWh   \n",
      "12155   S12000033  Aberdeen City  Council Area      2005       Count   GWh   \n",
      "12156   S12000033  Aberdeen City  Council Area      2005       Count   GWh   \n",
      "12158   S12000033  Aberdeen City  Council Area      2005       Count   GWh   \n",
      "12159   S12000033  Aberdeen City  Council Area      2005       Count   GWh   \n",
      "12283   S12000033  Aberdeen City  Council Area      2005       Count   GWh   \n",
      "\n",
      "          Value         Energy Type Energy Consuming Sector  \n",
      "12147     1.644                Coal                Domestic  \n",
      "12153    10.317  Bioenergy & Wastes                Domestic  \n",
      "12155     5.473  Manufactured Fuels                Domestic  \n",
      "12156    26.174  Petroleum Products                Domestic  \n",
      "12158   516.919         Electricity                Domestic  \n",
      "12159  1682.733                 Gas                Domestic  \n",
      "12283  2243.259                 All                Domestic  \n"
     ]
    }
   ],
   "source": [
    "x = scot_data_cl[(scot_data_cl['FeatureCode']=='S12000033')&(scot_data_cl['DateCode']==2005)&(scot_data_cl['Energy Consuming Sector']=='Domestic')]\n",
    "print(x)"
   ]
  },
  {
   "cell_type": "code",
   "execution_count": 12,
   "id": "4b0e1452",
   "metadata": {},
   "outputs": [
    {
     "data": {
      "text/plain": [
       "18432"
      ]
     },
     "execution_count": 12,
     "metadata": {},
     "output_type": "execute_result"
    }
   ],
   "source": [
    "len(scot_data_cl)"
   ]
  },
  {
   "cell_type": "code",
   "execution_count": 13,
   "id": "4c1d0563",
   "metadata": {},
   "outputs": [],
   "source": [
    "scot_data_cl = scot_data_cl[scot_data_cl['Energy Consuming Sector'] != 'All']"
   ]
  },
  {
   "cell_type": "code",
   "execution_count": 14,
   "id": "f2c10ac0",
   "metadata": {},
   "outputs": [],
   "source": [
    "scot_data_cl = scot_data_cl[scot_data_cl['Energy Type'] != 'All']"
   ]
  },
  {
   "cell_type": "code",
   "execution_count": 15,
   "id": "36cb7345",
   "metadata": {},
   "outputs": [
    {
     "data": {
      "text/plain": [
       "13312"
      ]
     },
     "execution_count": 15,
     "metadata": {},
     "output_type": "execute_result"
    }
   ],
   "source": [
    "len(scot_data_cl)"
   ]
  },
  {
   "cell_type": "code",
   "execution_count": 16,
   "id": "9c9e4f31",
   "metadata": {},
   "outputs": [
    {
     "name": "stdout",
     "output_type": "stream",
     "text": [
      "['Coal' 'Electricity' 'Gas' 'Bioenergy & Wastes' 'Petroleum Products'\n",
      " 'Manufactured Fuels']\n",
      "['Rail' 'Domestic' 'Public Sector' 'Industrial & Commercial' 'Agriculture'\n",
      " 'Road Transport' 'Commercial' 'Industrial']\n"
     ]
    }
   ],
   "source": [
    "# unique_values = df['column_name'].unique()\n",
    "\n",
    "uq_engery_type = scot_data_cl['Energy Type'].unique()\n",
    "print(uq_engery_type)\n",
    "uq_engery_consume = scot_data_cl['Energy Consuming Sector'].unique()\n",
    "print(uq_engery_consume)"
   ]
  },
  {
   "cell_type": "code",
   "execution_count": 17,
   "id": "b67586fe",
   "metadata": {},
   "outputs": [],
   "source": [
    "# exporting data file\n",
    "scot_data_cl.to_csv('Data/Scotland Council Data Cleaned.csv', index=False)"
   ]
  },
  {
   "cell_type": "code",
   "execution_count": 20,
   "id": "19801d4a",
   "metadata": {},
   "outputs": [
    {
     "name": "stdout",
     "output_type": "stream",
     "text": [
      "26\n"
     ]
    }
   ],
   "source": [
    "x = scot_data_cl[(scot_data_cl['FeatureCode']=='S12000033')&(scot_data_cl['DateCode']==2005)]\n",
    "print(len(x))\n"
   ]
  },
  {
   "cell_type": "code",
   "execution_count": 21,
   "id": "35b4dc50",
   "metadata": {},
   "outputs": [],
   "source": [
    "### Working on cleaned Data "
   ]
  },
  {
   "cell_type": "code",
   "execution_count": 18,
   "id": "7f84dc98",
   "metadata": {},
   "outputs": [],
   "source": [
    "scot_data = pd.read_csv(\"Data/Scotland Council Data Cleaned.csv\")"
   ]
  },
  {
   "cell_type": "code",
   "execution_count": 19,
   "id": "cdb39e65",
   "metadata": {},
   "outputs": [
    {
     "data": {
      "text/html": [
       "<div>\n",
       "<style scoped>\n",
       "    .dataframe tbody tr th:only-of-type {\n",
       "        vertical-align: middle;\n",
       "    }\n",
       "\n",
       "    .dataframe tbody tr th {\n",
       "        vertical-align: top;\n",
       "    }\n",
       "\n",
       "    .dataframe thead th {\n",
       "        text-align: right;\n",
       "    }\n",
       "</style>\n",
       "<table border=\"1\" class=\"dataframe\">\n",
       "  <thead>\n",
       "    <tr style=\"text-align: right;\">\n",
       "      <th></th>\n",
       "      <th>FeatureCode</th>\n",
       "      <th>FeatureName</th>\n",
       "      <th>FeatureType</th>\n",
       "      <th>DateCode</th>\n",
       "      <th>Measurement</th>\n",
       "      <th>Units</th>\n",
       "      <th>Value</th>\n",
       "      <th>Energy Type</th>\n",
       "      <th>Energy Consuming Sector</th>\n",
       "    </tr>\n",
       "  </thead>\n",
       "  <tbody>\n",
       "    <tr>\n",
       "      <th>0</th>\n",
       "      <td>S12000039</td>\n",
       "      <td>West Dunbartonshire</td>\n",
       "      <td>Council Area</td>\n",
       "      <td>2005</td>\n",
       "      <td>Count</td>\n",
       "      <td>GWh</td>\n",
       "      <td>0.000</td>\n",
       "      <td>Coal</td>\n",
       "      <td>Rail</td>\n",
       "    </tr>\n",
       "    <tr>\n",
       "      <th>1</th>\n",
       "      <td>S12000039</td>\n",
       "      <td>West Dunbartonshire</td>\n",
       "      <td>Council Area</td>\n",
       "      <td>2005</td>\n",
       "      <td>Count</td>\n",
       "      <td>GWh</td>\n",
       "      <td>192.383</td>\n",
       "      <td>Electricity</td>\n",
       "      <td>Domestic</td>\n",
       "    </tr>\n",
       "    <tr>\n",
       "      <th>2</th>\n",
       "      <td>S12000039</td>\n",
       "      <td>West Dunbartonshire</td>\n",
       "      <td>Council Area</td>\n",
       "      <td>2005</td>\n",
       "      <td>Count</td>\n",
       "      <td>GWh</td>\n",
       "      <td>0.176</td>\n",
       "      <td>Coal</td>\n",
       "      <td>Public Sector</td>\n",
       "    </tr>\n",
       "    <tr>\n",
       "      <th>3</th>\n",
       "      <td>S12000039</td>\n",
       "      <td>West Dunbartonshire</td>\n",
       "      <td>Council Area</td>\n",
       "      <td>2005</td>\n",
       "      <td>Count</td>\n",
       "      <td>GWh</td>\n",
       "      <td>664.980</td>\n",
       "      <td>Gas</td>\n",
       "      <td>Domestic</td>\n",
       "    </tr>\n",
       "    <tr>\n",
       "      <th>4</th>\n",
       "      <td>S12000039</td>\n",
       "      <td>West Dunbartonshire</td>\n",
       "      <td>Council Area</td>\n",
       "      <td>2005</td>\n",
       "      <td>Count</td>\n",
       "      <td>GWh</td>\n",
       "      <td>250.801</td>\n",
       "      <td>Electricity</td>\n",
       "      <td>Industrial &amp; Commercial</td>\n",
       "    </tr>\n",
       "    <tr>\n",
       "      <th>5</th>\n",
       "      <td>S12000039</td>\n",
       "      <td>West Dunbartonshire</td>\n",
       "      <td>Council Area</td>\n",
       "      <td>2005</td>\n",
       "      <td>Count</td>\n",
       "      <td>GWh</td>\n",
       "      <td>1.127</td>\n",
       "      <td>Bioenergy &amp; Wastes</td>\n",
       "      <td>Domestic</td>\n",
       "    </tr>\n",
       "    <tr>\n",
       "      <th>6</th>\n",
       "      <td>S12000039</td>\n",
       "      <td>West Dunbartonshire</td>\n",
       "      <td>Council Area</td>\n",
       "      <td>2005</td>\n",
       "      <td>Count</td>\n",
       "      <td>GWh</td>\n",
       "      <td>0.182</td>\n",
       "      <td>Coal</td>\n",
       "      <td>Domestic</td>\n",
       "    </tr>\n",
       "    <tr>\n",
       "      <th>7</th>\n",
       "      <td>S12000039</td>\n",
       "      <td>West Dunbartonshire</td>\n",
       "      <td>Council Area</td>\n",
       "      <td>2005</td>\n",
       "      <td>Count</td>\n",
       "      <td>GWh</td>\n",
       "      <td>0.005</td>\n",
       "      <td>Coal</td>\n",
       "      <td>Agriculture</td>\n",
       "    </tr>\n",
       "    <tr>\n",
       "      <th>8</th>\n",
       "      <td>S12000039</td>\n",
       "      <td>West Dunbartonshire</td>\n",
       "      <td>Council Area</td>\n",
       "      <td>2005</td>\n",
       "      <td>Count</td>\n",
       "      <td>GWh</td>\n",
       "      <td>528.530</td>\n",
       "      <td>Petroleum Products</td>\n",
       "      <td>Road Transport</td>\n",
       "    </tr>\n",
       "    <tr>\n",
       "      <th>9</th>\n",
       "      <td>S12000039</td>\n",
       "      <td>West Dunbartonshire</td>\n",
       "      <td>Council Area</td>\n",
       "      <td>2006</td>\n",
       "      <td>Count</td>\n",
       "      <td>GWh</td>\n",
       "      <td>1.268</td>\n",
       "      <td>Bioenergy &amp; Wastes</td>\n",
       "      <td>Domestic</td>\n",
       "    </tr>\n",
       "  </tbody>\n",
       "</table>\n",
       "</div>"
      ],
      "text/plain": [
       "  FeatureCode          FeatureName   FeatureType  DateCode Measurement Units  \\\n",
       "0   S12000039  West Dunbartonshire  Council Area      2005       Count   GWh   \n",
       "1   S12000039  West Dunbartonshire  Council Area      2005       Count   GWh   \n",
       "2   S12000039  West Dunbartonshire  Council Area      2005       Count   GWh   \n",
       "3   S12000039  West Dunbartonshire  Council Area      2005       Count   GWh   \n",
       "4   S12000039  West Dunbartonshire  Council Area      2005       Count   GWh   \n",
       "5   S12000039  West Dunbartonshire  Council Area      2005       Count   GWh   \n",
       "6   S12000039  West Dunbartonshire  Council Area      2005       Count   GWh   \n",
       "7   S12000039  West Dunbartonshire  Council Area      2005       Count   GWh   \n",
       "8   S12000039  West Dunbartonshire  Council Area      2005       Count   GWh   \n",
       "9   S12000039  West Dunbartonshire  Council Area      2006       Count   GWh   \n",
       "\n",
       "     Value         Energy Type  Energy Consuming Sector  \n",
       "0    0.000                Coal                     Rail  \n",
       "1  192.383         Electricity                 Domestic  \n",
       "2    0.176                Coal            Public Sector  \n",
       "3  664.980                 Gas                 Domestic  \n",
       "4  250.801         Electricity  Industrial & Commercial  \n",
       "5    1.127  Bioenergy & Wastes                 Domestic  \n",
       "6    0.182                Coal                 Domestic  \n",
       "7    0.005                Coal              Agriculture  \n",
       "8  528.530  Petroleum Products           Road Transport  \n",
       "9    1.268  Bioenergy & Wastes                 Domestic  "
      ]
     },
     "execution_count": 19,
     "metadata": {},
     "output_type": "execute_result"
    }
   ],
   "source": [
    "scot_data.head(10)"
   ]
  },
  {
   "cell_type": "code",
   "execution_count": 20,
   "id": "97cdd14d",
   "metadata": {},
   "outputs": [],
   "source": [
    "# first see how many different features are there and in each rows how many different values there are."
   ]
  },
  {
   "cell_type": "code",
   "execution_count": 21,
   "id": "c122f7fb",
   "metadata": {},
   "outputs": [
    {
     "name": "stdout",
     "output_type": "stream",
     "text": [
      "Number of feature in this Data Set: 9\n"
     ]
    }
   ],
   "source": [
    "no_col = scot_data.shape[1]\n",
    "print(\"Number of feature in this Data Set: \" + str(no_col))"
   ]
  },
  {
   "cell_type": "code",
   "execution_count": 22,
   "id": "63512fe6",
   "metadata": {},
   "outputs": [],
   "source": [
    "# now explore how many different values in each features."
   ]
  },
  {
   "cell_type": "code",
   "execution_count": 23,
   "id": "a666604f",
   "metadata": {},
   "outputs": [
    {
     "name": "stdout",
     "output_type": "stream",
     "text": [
      "Distinct Feature Code:  ['S12000039' 'S12000040' 'S12000005' 'S12000006' 'S12000008' 'S12000010'\n",
      " 'S12000011' 'S12000013' 'S12000014' 'S12000017' 'S12000018' 'S12000019'\n",
      " 'S12000020' 'S12000021' 'S12000023' 'S12000026' 'S12000027' 'S12000028'\n",
      " 'S12000029' 'S12000030' 'S12000033' 'S12000034' 'S12000035' 'S12000036'\n",
      " 'S12000038' 'S12000041' 'S12000042' 'S12000045' 'S12000047' 'S12000048'\n",
      " 'S12000049' 'S12000050']\n"
     ]
    }
   ],
   "source": [
    "# feature code\n",
    "\n",
    "dist_Feature_code = scot_data['FeatureCode'].unique()\n",
    "\n",
    "print(\"Distinct Feature Code: \", dist_Feature_code)\n"
   ]
  },
  {
   "cell_type": "markdown",
   "id": "b91e1fd4",
   "metadata": {},
   "source": [
    "there are 32 distinct feature code "
   ]
  },
  {
   "cell_type": "code",
   "execution_count": 24,
   "id": "f8939e9b",
   "metadata": {},
   "outputs": [
    {
     "name": "stdout",
     "output_type": "stream",
     "text": [
      "Distinct Feature Name:  ['West Dunbartonshire' 'West Lothian' 'Clackmannanshire'\n",
      " 'Dumfries and Galloway' 'East Ayrshire' 'East Lothian'\n",
      " 'East Renfrewshire' 'Na h-Eileanan Siar' 'Falkirk' 'Highland'\n",
      " 'Inverclyde' 'Midlothian' 'Moray' 'North Ayrshire' 'Orkney Islands'\n",
      " 'Scottish Borders' 'Shetland Islands' 'South Ayrshire'\n",
      " 'South Lanarkshire' 'Stirling' 'Aberdeen City' 'Aberdeenshire'\n",
      " 'Argyll and Bute' 'City of Edinburgh' 'Renfrewshire' 'Angus'\n",
      " 'Dundee City' 'East Dunbartonshire' 'Fife' 'Perth and Kinross'\n",
      " 'Glasgow City' 'North Lanarkshire']\n"
     ]
    }
   ],
   "source": [
    "# feature Name\n",
    "\n",
    "dist_Feature_name = scot_data['FeatureName'].unique()\n",
    "\n",
    "print(\"Distinct Feature Name: \", dist_Feature_name)"
   ]
  },
  {
   "cell_type": "markdown",
   "id": "2ecd679b",
   "metadata": {},
   "source": [
    "there are 32 different councils in Scotland"
   ]
  },
  {
   "cell_type": "code",
   "execution_count": 25,
   "id": "561cf365",
   "metadata": {},
   "outputs": [
    {
     "name": "stdout",
     "output_type": "stream",
     "text": [
      "Distinct Feature Type:  ['Council Area']\n"
     ]
    }
   ],
   "source": [
    "# feature Type\n",
    "\n",
    "dist_Feature_type = scot_data['FeatureType'].unique()\n",
    "\n",
    "print(\"Distinct Feature Type: \", dist_Feature_type)"
   ]
  },
  {
   "cell_type": "markdown",
   "id": "e406442b",
   "metadata": {},
   "source": [
    "in this column only one type of values is there "
   ]
  },
  {
   "cell_type": "code",
   "execution_count": 26,
   "id": "3f909853",
   "metadata": {},
   "outputs": [
    {
     "name": "stdout",
     "output_type": "stream",
     "text": [
      "Distinct Date Code:  [2005 2006 2007 2008 2017 2018 2019 2015 2016 2013 2012 2014 2011 2010\n",
      " 2009 2020]\n"
     ]
    }
   ],
   "source": [
    "# feature DateCode\n",
    "\n",
    "dist_date_code = scot_data['DateCode'].unique()\n",
    "\n",
    "print(\"Distinct Date Code: \", dist_date_code)"
   ]
  },
  {
   "cell_type": "markdown",
   "id": "17d0ed0d",
   "metadata": {},
   "source": [
    "in this column there are 16 different values which varies from 2005 to 2020 "
   ]
  },
  {
   "cell_type": "code",
   "execution_count": 27,
   "id": "f1e94e1e",
   "metadata": {},
   "outputs": [
    {
     "name": "stdout",
     "output_type": "stream",
     "text": [
      "Distinct Measurement:  ['Count']\n"
     ]
    }
   ],
   "source": [
    "# feature Measurement\n",
    "\n",
    "dist_Measurement = scot_data['Measurement'].unique()\n",
    "\n",
    "print(\"Distinct Measurement: \", dist_Measurement)"
   ]
  },
  {
   "cell_type": "markdown",
   "id": "76ea531d",
   "metadata": {},
   "source": [
    "this column contains only one distinct value."
   ]
  },
  {
   "cell_type": "code",
   "execution_count": 28,
   "id": "15f23bf6",
   "metadata": {},
   "outputs": [
    {
     "name": "stdout",
     "output_type": "stream",
     "text": [
      "Distinct Units:  ['Council Area']\n"
     ]
    }
   ],
   "source": [
    "# feature Units\n",
    "\n",
    "dist_Units = scot_data['Units'].unique()\n",
    "\n",
    "print(\"Distinct Units: \", dist_Feature_type)"
   ]
  },
  {
   "cell_type": "markdown",
   "id": "c3c4a56f",
   "metadata": {},
   "source": [
    "this column contains only one distinct value."
   ]
  },
  {
   "cell_type": "code",
   "execution_count": 29,
   "id": "bd7e7913",
   "metadata": {},
   "outputs": [
    {
     "name": "stdout",
     "output_type": "stream",
     "text": [
      "Distinct Energy Type:  ['Coal' 'Electricity' 'Gas' 'Bioenergy & Wastes' 'Petroleum Products'\n",
      " 'Manufactured Fuels']\n"
     ]
    }
   ],
   "source": [
    "# feature Energy Type\n",
    "\n",
    "dist_Energy_Type = scot_data['Energy Type'].unique()\n",
    "\n",
    "print(\"Distinct Energy Type: \", dist_Energy_Type)"
   ]
  },
  {
   "cell_type": "markdown",
   "id": "8a69b477",
   "metadata": {},
   "source": [
    "The output indicates the distinct types of energy used in a given context. The different energy types listed are:\n",
    "\n",
    "Coal\n",
    "\n",
    "Electricity\n",
    "\n",
    "Gas\n",
    "\n",
    "Bioenergy & Wastes\n",
    "\n",
    "Petroleum Products\n",
    "\n",
    "Manufactured Fuels"
   ]
  },
  {
   "cell_type": "code",
   "execution_count": 30,
   "id": "3cda124e",
   "metadata": {},
   "outputs": [
    {
     "name": "stdout",
     "output_type": "stream",
     "text": [
      "Distinct Energy Consuming Sector:  ['Rail' 'Domestic' 'Public Sector' 'Industrial & Commercial' 'Agriculture'\n",
      " 'Road Transport' 'Commercial' 'Industrial']\n"
     ]
    }
   ],
   "source": [
    "# feature Energy Consuming Sector\n",
    "\n",
    "dist_Energy_Consuming = scot_data['Energy Consuming Sector'].unique()\n",
    "\n",
    "print(\"Distinct Energy Consuming Sector: \", dist_Energy_Consuming)"
   ]
  },
  {
   "cell_type": "markdown",
   "id": "7e55fc44",
   "metadata": {},
   "source": [
    "The output lists the distinct sectors or industries that consume energy in a given context. The different sectors listed are:\n",
    "\n",
    "Rail\n",
    "\n",
    "Domestic\n",
    "\n",
    "Public Sector\n",
    "\n",
    "Industrial & Commercial\n",
    "\n",
    "Agriculture\n",
    "\n",
    "Road Transport\n",
    "\n",
    "Commercial\n",
    "\n",
    "Industrial"
   ]
  },
  {
   "cell_type": "code",
   "execution_count": 31,
   "id": "4b785a2c",
   "metadata": {},
   "outputs": [
    {
     "name": "stdout",
     "output_type": "stream",
     "text": [
      "Distinct Value:  [0.000000e+00 1.923830e+02 1.760000e-01 ... 3.268700e+01 1.976400e+01\n",
      " 2.781782e+03]\n"
     ]
    }
   ],
   "source": [
    "# feature Value\n",
    "\n",
    "dist_Value = scot_data['Value'].unique()\n",
    "\n",
    "print(\"Distinct Value: \", dist_Value)"
   ]
  },
  {
   "cell_type": "markdown",
   "id": "a1b383f1",
   "metadata": {},
   "source": [
    "all the values is in GWh so i will remove uneccessary columns from the dataframe"
   ]
  },
  {
   "cell_type": "code",
   "execution_count": 32,
   "id": "8a42f615",
   "metadata": {},
   "outputs": [],
   "source": [
    "# removing three columns FeatureType,Measurement and Units\n",
    "\n",
    "scot_data = scot_data.drop([\"FeatureType\",\"Measurement\",\"Units\"], axis = 1)\n",
    "scot_data = scot_data.sort_values(by=['DateCode'], ascending=True)"
   ]
  },
  {
   "cell_type": "code",
   "execution_count": 33,
   "id": "aafd057a",
   "metadata": {
    "scrolled": true
   },
   "outputs": [
    {
     "name": "stdout",
     "output_type": "stream",
     "text": [
      "FeatureCode                 object\n",
      "FeatureName                 object\n",
      "DateCode                     int64\n",
      "Value                      float64\n",
      "Energy Type                 object\n",
      "Energy Consuming Sector     object\n",
      "dtype: object\n"
     ]
    },
    {
     "data": {
      "text/html": [
       "<div>\n",
       "<style scoped>\n",
       "    .dataframe tbody tr th:only-of-type {\n",
       "        vertical-align: middle;\n",
       "    }\n",
       "\n",
       "    .dataframe tbody tr th {\n",
       "        vertical-align: top;\n",
       "    }\n",
       "\n",
       "    .dataframe thead th {\n",
       "        text-align: right;\n",
       "    }\n",
       "</style>\n",
       "<table border=\"1\" class=\"dataframe\">\n",
       "  <thead>\n",
       "    <tr style=\"text-align: right;\">\n",
       "      <th></th>\n",
       "      <th>FeatureCode</th>\n",
       "      <th>FeatureName</th>\n",
       "      <th>DateCode</th>\n",
       "      <th>Value</th>\n",
       "      <th>Energy Type</th>\n",
       "      <th>Energy Consuming Sector</th>\n",
       "    </tr>\n",
       "  </thead>\n",
       "  <tbody>\n",
       "    <tr>\n",
       "      <th>0</th>\n",
       "      <td>S12000039</td>\n",
       "      <td>West Dunbartonshire</td>\n",
       "      <td>2005</td>\n",
       "      <td>0.000</td>\n",
       "      <td>Coal</td>\n",
       "      <td>Rail</td>\n",
       "    </tr>\n",
       "    <tr>\n",
       "      <th>1501</th>\n",
       "      <td>S12000006</td>\n",
       "      <td>Dumfries and Galloway</td>\n",
       "      <td>2005</td>\n",
       "      <td>578.151</td>\n",
       "      <td>Electricity</td>\n",
       "      <td>Industrial &amp; Commercial</td>\n",
       "    </tr>\n",
       "    <tr>\n",
       "      <th>1500</th>\n",
       "      <td>S12000006</td>\n",
       "      <td>Dumfries and Galloway</td>\n",
       "      <td>2005</td>\n",
       "      <td>403.875</td>\n",
       "      <td>Electricity</td>\n",
       "      <td>Domestic</td>\n",
       "    </tr>\n",
       "    <tr>\n",
       "      <th>6691</th>\n",
       "      <td>S12000027</td>\n",
       "      <td>Shetland Islands</td>\n",
       "      <td>2005</td>\n",
       "      <td>88.748</td>\n",
       "      <td>Petroleum Products</td>\n",
       "      <td>Industrial</td>\n",
       "    </tr>\n",
       "    <tr>\n",
       "      <th>6693</th>\n",
       "      <td>S12000027</td>\n",
       "      <td>Shetland Islands</td>\n",
       "      <td>2005</td>\n",
       "      <td>7.092</td>\n",
       "      <td>Petroleum Products</td>\n",
       "      <td>Commercial</td>\n",
       "    </tr>\n",
       "    <tr>\n",
       "      <th>6791</th>\n",
       "      <td>S12000027</td>\n",
       "      <td>Shetland Islands</td>\n",
       "      <td>2005</td>\n",
       "      <td>107.461</td>\n",
       "      <td>Electricity</td>\n",
       "      <td>Domestic</td>\n",
       "    </tr>\n",
       "    <tr>\n",
       "      <th>6792</th>\n",
       "      <td>S12000027</td>\n",
       "      <td>Shetland Islands</td>\n",
       "      <td>2005</td>\n",
       "      <td>102.042</td>\n",
       "      <td>Electricity</td>\n",
       "      <td>Industrial &amp; Commercial</td>\n",
       "    </tr>\n",
       "    <tr>\n",
       "      <th>6793</th>\n",
       "      <td>S12000027</td>\n",
       "      <td>Shetland Islands</td>\n",
       "      <td>2005</td>\n",
       "      <td>0.000</td>\n",
       "      <td>Coal</td>\n",
       "      <td>Rail</td>\n",
       "    </tr>\n",
       "    <tr>\n",
       "      <th>1502</th>\n",
       "      <td>S12000006</td>\n",
       "      <td>Dumfries and Galloway</td>\n",
       "      <td>2005</td>\n",
       "      <td>0.000</td>\n",
       "      <td>Coal</td>\n",
       "      <td>Rail</td>\n",
       "    </tr>\n",
       "    <tr>\n",
       "      <th>6794</th>\n",
       "      <td>S12000027</td>\n",
       "      <td>Shetland Islands</td>\n",
       "      <td>2005</td>\n",
       "      <td>2.971</td>\n",
       "      <td>Manufactured Fuels</td>\n",
       "      <td>Domestic</td>\n",
       "    </tr>\n",
       "  </tbody>\n",
       "</table>\n",
       "</div>"
      ],
      "text/plain": [
       "     FeatureCode            FeatureName  DateCode    Value  \\\n",
       "0      S12000039    West Dunbartonshire      2005    0.000   \n",
       "1501   S12000006  Dumfries and Galloway      2005  578.151   \n",
       "1500   S12000006  Dumfries and Galloway      2005  403.875   \n",
       "6691   S12000027       Shetland Islands      2005   88.748   \n",
       "6693   S12000027       Shetland Islands      2005    7.092   \n",
       "6791   S12000027       Shetland Islands      2005  107.461   \n",
       "6792   S12000027       Shetland Islands      2005  102.042   \n",
       "6793   S12000027       Shetland Islands      2005    0.000   \n",
       "1502   S12000006  Dumfries and Galloway      2005    0.000   \n",
       "6794   S12000027       Shetland Islands      2005    2.971   \n",
       "\n",
       "             Energy Type  Energy Consuming Sector  \n",
       "0                   Coal                     Rail  \n",
       "1501         Electricity  Industrial & Commercial  \n",
       "1500         Electricity                 Domestic  \n",
       "6691  Petroleum Products               Industrial  \n",
       "6693  Petroleum Products               Commercial  \n",
       "6791         Electricity                 Domestic  \n",
       "6792         Electricity  Industrial & Commercial  \n",
       "6793                Coal                     Rail  \n",
       "1502                Coal                     Rail  \n",
       "6794  Manufactured Fuels                 Domestic  "
      ]
     },
     "execution_count": 33,
     "metadata": {},
     "output_type": "execute_result"
    }
   ],
   "source": [
    "print(scot_data.dtypes)\n",
    "scot_data.head(10)"
   ]
  },
  {
   "cell_type": "code",
   "execution_count": 34,
   "id": "fbff6340",
   "metadata": {},
   "outputs": [],
   "source": [
    "group_energy_type = scot_data.groupby(['DateCode', 'FeatureName', 'Energy Type'])['Value'].sum()\n",
    "group_energy_consume = scot_data.groupby(['DateCode', 'FeatureName', 'Energy Consuming Sector'])['Value'].sum()"
   ]
  },
  {
   "cell_type": "code",
   "execution_count": 35,
   "id": "aa6475af",
   "metadata": {},
   "outputs": [
    {
     "name": "stdout",
     "output_type": "stream",
     "text": [
      "      DateCode    FeatureName         Energy Type     Value\n",
      "0         2005  Aberdeen City  Bioenergy & Wastes    15.538\n",
      "1         2005  Aberdeen City                Coal    27.641\n",
      "2         2005  Aberdeen City         Electricity  2278.539\n",
      "3         2005  Aberdeen City                 Gas  3145.962\n",
      "4         2005  Aberdeen City  Manufactured Fuels    13.371\n",
      "...        ...            ...                 ...       ...\n",
      "3067      2020   West Lothian                Coal     2.488\n",
      "3068      2020   West Lothian         Electricity  1180.660\n",
      "3069      2020   West Lothian                 Gas  1798.285\n",
      "3070      2020   West Lothian  Manufactured Fuels     8.160\n",
      "3071      2020   West Lothian  Petroleum Products  1347.124\n",
      "\n",
      "[3072 rows x 4 columns]\n",
      "      DateCode    FeatureName  Energy Consuming Sector     Value\n",
      "0         2005  Aberdeen City              Agriculture    11.648\n",
      "1         2005  Aberdeen City               Commercial  1070.127\n",
      "2         2005  Aberdeen City                 Domestic  2243.260\n",
      "3         2005  Aberdeen City               Industrial  1722.199\n",
      "4         2005  Aberdeen City  Industrial & Commercial   880.810\n",
      "...        ...            ...                      ...       ...\n",
      "4091      2020   West Lothian               Industrial   732.513\n",
      "4092      2020   West Lothian  Industrial & Commercial   445.442\n",
      "4093      2020   West Lothian            Public Sector     0.076\n",
      "4094      2020   West Lothian                     Rail    10.221\n",
      "4095      2020   West Lothian           Road Transport  1234.219\n",
      "\n",
      "[4096 rows x 4 columns]\n"
     ]
    }
   ],
   "source": [
    "group_energy_type  = group_energy_type.reset_index()\n",
    "group_energy_consume = group_energy_consume.reset_index()\n",
    "print(group_energy_type)\n",
    "print(group_energy_consume)"
   ]
  },
  {
   "cell_type": "code",
   "execution_count": 36,
   "id": "6e7272d5",
   "metadata": {},
   "outputs": [],
   "source": [
    "# Exporting Data\n",
    "group_energy_type.to_csv('Data/group_energy_type.csv', index=False)\n",
    "group_energy_consume.to_csv('Data/group_energy_consume.csv', index=False)\n"
   ]
  },
  {
   "cell_type": "code",
   "execution_count": 37,
   "id": "32cb0fb8",
   "metadata": {},
   "outputs": [
    {
     "ename": "NameError",
     "evalue": "name 'data_by_energy_type' is not defined",
     "output_type": "error",
     "traceback": [
      "\u001b[0;31m---------------------------------------------------------------------------\u001b[0m",
      "\u001b[0;31mNameError\u001b[0m                                 Traceback (most recent call last)",
      "Input \u001b[0;32mIn [37]\u001b[0m, in \u001b[0;36m<cell line: 4>\u001b[0;34m()\u001b[0m\n\u001b[1;32m      1\u001b[0m \u001b[38;5;66;03m# ploting petrolium energy type each year so we can see the trend\u001b[39;00m\n\u001b[1;32m      2\u001b[0m e_type \u001b[38;5;241m=\u001b[39m \u001b[38;5;124m'\u001b[39m\u001b[38;5;124mPetroleum Products\u001b[39m\u001b[38;5;124m'\u001b[39m\n\u001b[0;32m----> 4\u001b[0m filter_data \u001b[38;5;241m=\u001b[39m \u001b[43mdata_by_energy_type\u001b[49m[data_by_energy_type[\u001b[38;5;124m'\u001b[39m\u001b[38;5;124mEnergy Type\u001b[39m\u001b[38;5;124m'\u001b[39m] \u001b[38;5;241m==\u001b[39m e_type]\n",
      "\u001b[0;31mNameError\u001b[0m: name 'data_by_energy_type' is not defined"
     ]
    }
   ],
   "source": [
    "# ploting petrolium energy type each year so we can see the trend\n",
    "e_type = 'Petroleum Products'\n",
    "\n",
    "filter_data = data_by_energy_type[data_by_energy_type['Energy Type'] == e_type]\n",
    "\n",
    "\n"
   ]
  },
  {
   "cell_type": "markdown",
   "id": "9ff6a21d",
   "metadata": {},
   "source": [
    "## Question 1 :\n",
    "\n",
    "How has the overall energy consumption evolved across all Scottish council areas from 2005 to 2020? Is there an upward or downward trend?\n"
   ]
  },
  {
   "cell_type": "code",
   "execution_count": 38,
   "id": "6ac52464",
   "metadata": {},
   "outputs": [
    {
     "data": {
      "image/png": "[encoded data removed]",
      "text/plain": [
       "<Figure size 432x288 with 1 Axes>"
      ]
     },
     "metadata": {
      "needs_background": "light"
     },
     "output_type": "display_data"
    }
   ],
   "source": [
    "import pandas as pd\n",
    "import seaborn as sns\n",
    "import matplotlib.pyplot as plt\n",
    "\n",
    "\n",
    "total_consumption_yearly = scot_data.groupby(['DateCode']).sum().reset_index()\n",
    "\n",
    "sns.lineplot(x='DateCode', y='Value', data=total_consumption_yearly)\n",
    "plt.title('Overall Energy Consumption Trend (2005-2020)')\n",
    "plt.show()\n"
   ]
  },
  {
   "cell_type": "code",
   "execution_count": 39,
   "id": "17921d0a",
   "metadata": {},
   "outputs": [
    {
     "data": {
      "image/png": "[encoded data removed]",
      "text/plain": [
       "<Figure size 432x288 with 1 Axes>"
      ]
     },
     "metadata": {
      "needs_background": "light"
     },
     "output_type": "display_data"
    }
   ],
   "source": [
    "import pandas as pd\n",
    "import seaborn as sns\n",
    "import matplotlib.pyplot as plt\n",
    "\n",
    "\n",
    "total_consumption_yearly = group_energy_consume.groupby(['DateCode']).sum().reset_index()\n",
    "\n",
    "sns.lineplot(x='DateCode', y='Value', data=total_consumption_yearly)\n",
    "plt.title('Overall Energy Consumption Trend (2005-2020)')\n",
    "plt.show()\n"
   ]
  },
  {
   "cell_type": "markdown",
   "id": "7523ec98",
   "metadata": {},
   "source": [
    "## Question 2 :\n",
    "\n",
    "Which council areas have the highest and lowest energy consumption levels? How do these energy consumption levels differ across council areas?"
   ]
  },
  {
   "cell_type": "code",
   "execution_count": 42,
   "id": "5576bf6e",
   "metadata": {},
   "outputs": [
    {
     "data": {
      "image/png": "[encoded data removed]",
      "text/plain": [
       "<Figure size 432x288 with 1 Axes>"
      ]
     },
     "metadata": {
      "needs_background": "light"
     },
     "output_type": "display_data"
    }
   ],
   "source": [
    "total_consumption_area = scot_data.groupby(['FeatureName']).sum().reset_index().sort_values(by='Value', ascending=False)\n",
    "\n",
    "sns.barplot(x='Value', y='FeatureName', data=total_consumption_area)\n",
    "plt.title('Energy Consumption by Council Area (2005-2020)')\n",
    "plt.show()\n"
   ]
  },
  {
   "cell_type": "code",
   "execution_count": null,
   "id": "dc9ac7cb",
   "metadata": {},
   "outputs": [],
   "source": []
  },
  {
   "cell_type": "code",
   "execution_count": null,
   "id": "d4e36eb7",
   "metadata": {},
   "outputs": [],
   "source": []
  },
  {
   "cell_type": "code",
   "execution_count": null,
   "id": "78e2ded3",
   "metadata": {},
   "outputs": [],
   "source": []
  },
  {
   "cell_type": "code",
   "execution_count": null,
   "id": "1649c18e",
   "metadata": {},
   "outputs": [],
   "source": []
  },
  {
   "cell_type": "code",
   "execution_count": null,
   "id": "e136e557",
   "metadata": {},
   "outputs": [],
   "source": []
  },
  {
   "cell_type": "code",
   "execution_count": null,
   "id": "b6f0f98a",
   "metadata": {},
   "outputs": [],
   "source": []
  },
  {
   "cell_type": "code",
   "execution_count": null,
   "id": "47125b94",
   "metadata": {},
   "outputs": [],
   "source": []
  },
  {
   "cell_type": "code",
   "execution_count": null,
   "id": "39e48f0b",
   "metadata": {},
   "outputs": [],
   "source": []
  },
  {
   "cell_type": "code",
   "execution_count": null,
   "id": "fb23476f",
   "metadata": {},
   "outputs": [],
   "source": []
  },
  {
   "cell_type": "code",
   "execution_count": null,
   "id": "db1852d2",
   "metadata": {},
   "outputs": [],
   "source": []
  },
  {
   "cell_type": "code",
   "execution_count": null,
   "id": "8388a365",
   "metadata": {},
   "outputs": [],
   "source": []
  },
  {
   "cell_type": "markdown",
   "id": "0dfcd082",
   "metadata": {},
   "source": [
    "# Machine Learning"
   ]
  },
  {
   "cell_type": "code",
   "execution_count": 38,
   "id": "de04de2f",
   "metadata": {},
   "outputs": [],
   "source": [
    "# exporting data file\n",
    "scot_data.to_csv('Data/Scotland Final Model Data.csv', index=False)"
   ]
  },
  {
   "cell_type": "code",
   "execution_count": 39,
   "id": "a83b14dc",
   "metadata": {},
   "outputs": [],
   "source": [
    "# separate the features and target variable\n",
    "X = scot_data[['FeatureCode', 'DateCode', 'Energy Consuming Sector']]\n",
    "y = scot_data['Value']"
   ]
  },
  {
   "cell_type": "code",
   "execution_count": 40,
   "id": "3c4bd73f",
   "metadata": {},
   "outputs": [],
   "source": [
    "# convert categorical features to numerical\n",
    "X = pd.get_dummies(X)"
   ]
  },
  {
   "cell_type": "code",
   "execution_count": 41,
   "id": "495d8fa3",
   "metadata": {},
   "outputs": [],
   "source": [
    "# split the data into training and test sets\n",
    "X_train, X_test, y_train, y_test = train_test_split(X, y, test_size=0.2, random_state=42)"
   ]
  },
  {
   "cell_type": "code",
   "execution_count": 42,
   "id": "2db06a2b",
   "metadata": {},
   "outputs": [
    {
     "name": "stdout",
     "output_type": "stream",
     "text": [
      "0.12377799152592184\n"
     ]
    }
   ],
   "source": [
    "# Linear Regression\n",
    "\n",
    "# create and train the model\n",
    "model = LinearRegression()\n",
    "model.fit(X_train, y_train)\n",
    "# evaluate the model on the test set\n",
    "score = model.score(X_test, y_test)\n",
    "print(score)"
   ]
  },
  {
   "cell_type": "code",
   "execution_count": null,
   "id": "9488e9fb",
   "metadata": {},
   "outputs": [],
   "source": []
  },
  {
   "cell_type": "code",
   "execution_count": null,
   "id": "dd673558",
   "metadata": {},
   "outputs": [],
   "source": [
    "# Deploying"
   ]
  },
  {
   "cell_type": "code",
   "execution_count": null,
   "id": "b3d7fcf9",
   "metadata": {},
   "outputs": [],
   "source": []
  },
  {
   "cell_type": "code",
   "execution_count": null,
   "id": "c57302c6",
   "metadata": {},
   "outputs": [],
   "source": []
  },
  {
   "cell_type": "code",
   "execution_count": null,
   "id": "4a474f3e",
   "metadata": {},
   "outputs": [],
   "source": []
  },
  {
   "cell_type": "code",
   "execution_count": null,
   "id": "0b7cdefa",
   "metadata": {},
   "outputs": [],
   "source": []
  },
  {
   "cell_type": "code",
   "execution_count": null,
   "id": "fbaa35b0",
   "metadata": {},
   "outputs": [],
   "source": []
  },
  {
   "cell_type": "code",
   "execution_count": null,
   "id": "2ca37111",
   "metadata": {},
   "outputs": [],
   "source": []
  },
  {
   "cell_type": "code",
   "execution_count": null,
   "id": "c6631812",
   "metadata": {},
   "outputs": [],
   "source": []
  }
 ],
 "metadata": {
  "kernelspec": {
   "display_name": "Python 3 (ipykernel)",
   "language": "python",
   "name": "python3"
  },
  "language_info": {
   "codemirror_mode": {
    "name": "ipython",
    "version": 3
   },
   "file_extension": ".py",
   "mimetype": "text/x-python",
   "name": "python",
   "nbconvert_exporter": "python",
   "pygments_lexer": "ipython3",
   "version": "3.9.12"
  }
 },
 "nbformat": 4,
 "nbformat_minor": 5
}
